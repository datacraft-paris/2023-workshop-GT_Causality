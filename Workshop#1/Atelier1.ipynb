{
  "cells": [
    {
      "cell_type": "markdown",
      "metadata": {
        "id": "UZFfQ6a7N8eO"
      },
      "source": [
        "<center><img src='data:image/jpeg;base64,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' width=1000></center>\n",
        "\n",
        "<h6><center>Datacraft</center></h6>\n",
        "\n",
        "<h1>\n",
        "<hr style=\" border:none; height:3px;\">\n",
        "<center>Atelier 1</center>\n",
        "<hr style=\" border:none; height:3px;\">\n",
        "</h1>"
      ]
    },
    {
      "cell_type": "markdown",
      "metadata": {
        "id": "hdTpEkPA9Geq"
      },
      "source": [
        "##Preliminaries for the SCM part"
      ]
    },
    {
      "cell_type": "markdown",
      "metadata": {
        "id": "uM-2vOphSfgr"
      },
      "source": [
        "Import useful libraries"
      ]
    },
    {
      "cell_type": "code",
      "execution_count": 83,
      "metadata": {
        "colab": {
          "base_uri": "https://localhost:8080/"
        },
        "id": "bPwUbDwYD4Z4",
        "outputId": "df2a78f6-505b-48bf-941e-196331301ead"
      },
      "outputs": [
        {
          "name": "stdout",
          "output_type": "stream",
          "text": [
            "Looking in indexes: https://pypi.org/simple, https://us-python.pkg.dev/colab-wheels/public/simple/\n",
            "Requirement already satisfied: dowhy in /usr/local/lib/python3.8/dist-packages (0.9.1)\n",
            "Requirement already satisfied: sphinx_design<0.4.0,>=0.3.0 in /usr/local/lib/python3.8/dist-packages (from dowhy) (0.3.0)\n",
            "Requirement already satisfied: scikit-learn<1.2.0 in /usr/local/lib/python3.8/dist-packages (from dowhy) (1.0.2)\n",
            "Requirement already satisfied: sympy<2.0.0,>=1.10.1 in /usr/local/lib/python3.8/dist-packages (from dowhy) (1.11.1)\n",
            "Requirement already satisfied: tqdm<5.0.0,>=4.64.0 in /usr/local/lib/python3.8/dist-packages (from dowhy) (4.64.1)\n",
            "Requirement already satisfied: econml in /usr/local/lib/python3.8/dist-packages (from dowhy) (0.14.0)\n",
            "Requirement already satisfied: networkx<3.0.0,>=2.8.5 in /usr/local/lib/python3.8/dist-packages (from dowhy) (2.8.8)\n",
            "Requirement already satisfied: cython<0.30.0,>=0.29.32 in /usr/local/lib/python3.8/dist-packages (from dowhy) (0.29.33)\n",
            "Requirement already satisfied: causal-learn<0.2.0.0,>=0.1.3.0 in /usr/local/lib/python3.8/dist-packages (from dowhy) (0.1.3.3)\n",
            "Requirement already satisfied: pandas<2.0.0,>=1.4.3 in /usr/local/lib/python3.8/dist-packages (from dowhy) (1.5.3)\n",
            "Requirement already satisfied: joblib<2.0.0,>=1.1.0 in /usr/local/lib/python3.8/dist-packages (from dowhy) (1.2.0)\n",
            "Requirement already satisfied: statsmodels<0.14.0,>=0.13.2 in /usr/local/lib/python3.8/dist-packages (from dowhy) (0.13.5)\n",
            "Requirement already satisfied: scipy<2.0.0,>=1.8.1 in /usr/local/lib/python3.8/dist-packages (from dowhy) (1.10.0)\n",
            "Requirement already satisfied: numpy<2.0.0,>=1.23.1 in /usr/local/lib/python3.8/dist-packages (from dowhy) (1.23.5)\n",
            "Requirement already satisfied: graphviz in /usr/local/lib/python3.8/dist-packages (from causal-learn<0.2.0.0,>=0.1.3.0->dowhy) (0.10.1)\n",
            "Requirement already satisfied: pydot in /usr/local/lib/python3.8/dist-packages (from causal-learn<0.2.0.0,>=0.1.3.0->dowhy) (1.3.0)\n",
            "Requirement already satisfied: matplotlib in /usr/local/lib/python3.8/dist-packages (from causal-learn<0.2.0.0,>=0.1.3.0->dowhy) (3.2.2)\n",
            "Requirement already satisfied: pytz>=2020.1 in /usr/local/lib/python3.8/dist-packages (from pandas<2.0.0,>=1.4.3->dowhy) (2022.7.1)\n",
            "Requirement already satisfied: python-dateutil>=2.8.1 in /usr/local/lib/python3.8/dist-packages (from pandas<2.0.0,>=1.4.3->dowhy) (2.8.2)\n",
            "Requirement already satisfied: threadpoolctl>=2.0.0 in /usr/local/lib/python3.8/dist-packages (from scikit-learn<1.2.0->dowhy) (3.1.0)\n",
            "Requirement already satisfied: sphinx<6,>=4 in /usr/local/lib/python3.8/dist-packages (from sphinx_design<0.4.0,>=0.3.0->dowhy) (5.3.0)\n",
            "Requirement already satisfied: patsy>=0.5.2 in /usr/local/lib/python3.8/dist-packages (from statsmodels<0.14.0,>=0.13.2->dowhy) (0.5.3)\n",
            "Requirement already satisfied: packaging>=21.3 in /usr/local/lib/python3.8/dist-packages (from statsmodels<0.14.0,>=0.13.2->dowhy) (23.0)\n",
            "Requirement already satisfied: mpmath>=0.19 in /usr/local/lib/python3.8/dist-packages (from sympy<2.0.0,>=1.10.1->dowhy) (1.2.1)\n",
            "Requirement already satisfied: shap<0.41.0,>=0.38.1 in /usr/local/lib/python3.8/dist-packages (from econml->dowhy) (0.40.0)\n",
            "Requirement already satisfied: lightgbm in /usr/local/lib/python3.8/dist-packages (from econml->dowhy) (2.2.3)\n",
            "Requirement already satisfied: sparse in /usr/local/lib/python3.8/dist-packages (from econml->dowhy) (0.13.0)\n",
            "Requirement already satisfied: six in /usr/local/lib/python3.8/dist-packages (from patsy>=0.5.2->statsmodels<0.14.0,>=0.13.2->dowhy) (1.15.0)\n",
            "Requirement already satisfied: slicer==0.0.7 in /usr/local/lib/python3.8/dist-packages (from shap<0.41.0,>=0.38.1->econml->dowhy) (0.0.7)\n",
            "Requirement already satisfied: cloudpickle in /usr/local/lib/python3.8/dist-packages (from shap<0.41.0,>=0.38.1->econml->dowhy) (2.2.1)\n",
            "Requirement already satisfied: numba in /usr/local/lib/python3.8/dist-packages (from shap<0.41.0,>=0.38.1->econml->dowhy) (0.56.4)\n",
            "Requirement already satisfied: Jinja2>=3.0 in /usr/local/lib/python3.8/dist-packages (from sphinx<6,>=4->sphinx_design<0.4.0,>=0.3.0->dowhy) (3.1.2)\n",
            "Requirement already satisfied: snowballstemmer>=2.0 in /usr/local/lib/python3.8/dist-packages (from sphinx<6,>=4->sphinx_design<0.4.0,>=0.3.0->dowhy) (2.2.0)\n",
            "Requirement already satisfied: imagesize>=1.3 in /usr/local/lib/python3.8/dist-packages (from sphinx<6,>=4->sphinx_design<0.4.0,>=0.3.0->dowhy) (1.4.1)\n",
            "Requirement already satisfied: requests>=2.5.0 in /usr/local/lib/python3.8/dist-packages (from sphinx<6,>=4->sphinx_design<0.4.0,>=0.3.0->dowhy) (2.25.1)\n",
            "Requirement already satisfied: importlib-metadata>=4.8 in /usr/local/lib/python3.8/dist-packages (from sphinx<6,>=4->sphinx_design<0.4.0,>=0.3.0->dowhy) (6.0.0)\n",
            "Requirement already satisfied: sphinxcontrib-serializinghtml>=1.1.5 in /usr/local/lib/python3.8/dist-packages (from sphinx<6,>=4->sphinx_design<0.4.0,>=0.3.0->dowhy) (1.1.5)\n",
            "Requirement already satisfied: sphinxcontrib-applehelp in /usr/local/lib/python3.8/dist-packages (from sphinx<6,>=4->sphinx_design<0.4.0,>=0.3.0->dowhy) (1.0.4)\n",
            "Requirement already satisfied: babel>=2.9 in /usr/local/lib/python3.8/dist-packages (from sphinx<6,>=4->sphinx_design<0.4.0,>=0.3.0->dowhy) (2.11.0)\n",
            "Requirement already satisfied: sphinxcontrib-htmlhelp>=2.0.0 in /usr/local/lib/python3.8/dist-packages (from sphinx<6,>=4->sphinx_design<0.4.0,>=0.3.0->dowhy) (2.0.1)\n",
            "Requirement already satisfied: alabaster<0.8,>=0.7 in /usr/local/lib/python3.8/dist-packages (from sphinx<6,>=4->sphinx_design<0.4.0,>=0.3.0->dowhy) (0.7.13)\n",
            "Requirement already satisfied: sphinxcontrib-devhelp in /usr/local/lib/python3.8/dist-packages (from sphinx<6,>=4->sphinx_design<0.4.0,>=0.3.0->dowhy) (1.0.2)\n",
            "Requirement already satisfied: docutils<0.20,>=0.14 in /usr/local/lib/python3.8/dist-packages (from sphinx<6,>=4->sphinx_design<0.4.0,>=0.3.0->dowhy) (0.16)\n",
            "Requirement already satisfied: Pygments>=2.12 in /usr/local/lib/python3.8/dist-packages (from sphinx<6,>=4->sphinx_design<0.4.0,>=0.3.0->dowhy) (2.14.0)\n",
            "Requirement already satisfied: sphinxcontrib-qthelp in /usr/local/lib/python3.8/dist-packages (from sphinx<6,>=4->sphinx_design<0.4.0,>=0.3.0->dowhy) (1.0.3)\n",
            "Requirement already satisfied: sphinxcontrib-jsmath in /usr/local/lib/python3.8/dist-packages (from sphinx<6,>=4->sphinx_design<0.4.0,>=0.3.0->dowhy) (1.0.1)\n",
            "Requirement already satisfied: cycler>=0.10 in /usr/local/lib/python3.8/dist-packages (from matplotlib->causal-learn<0.2.0.0,>=0.1.3.0->dowhy) (0.11.0)\n",
            "Requirement already satisfied: kiwisolver>=1.0.1 in /usr/local/lib/python3.8/dist-packages (from matplotlib->causal-learn<0.2.0.0,>=0.1.3.0->dowhy) (1.4.4)\n",
            "Requirement already satisfied: pyparsing!=2.0.4,!=2.1.2,!=2.1.6,>=2.0.1 in /usr/local/lib/python3.8/dist-packages (from matplotlib->causal-learn<0.2.0.0,>=0.1.3.0->dowhy) (3.0.9)\n",
            "Requirement already satisfied: zipp>=0.5 in /usr/local/lib/python3.8/dist-packages (from importlib-metadata>=4.8->sphinx<6,>=4->sphinx_design<0.4.0,>=0.3.0->dowhy) (3.12.1)\n",
            "Requirement already satisfied: MarkupSafe>=2.0 in /usr/local/lib/python3.8/dist-packages (from Jinja2>=3.0->sphinx<6,>=4->sphinx_design<0.4.0,>=0.3.0->dowhy) (2.0.1)\n",
            "Requirement already satisfied: setuptools in /usr/local/lib/python3.8/dist-packages (from numba->shap<0.41.0,>=0.38.1->econml->dowhy) (57.4.0)\n",
            "Requirement already satisfied: llvmlite<0.40,>=0.39.0dev0 in /usr/local/lib/python3.8/dist-packages (from numba->shap<0.41.0,>=0.38.1->econml->dowhy) (0.39.1)\n",
            "Requirement already satisfied: urllib3<1.27,>=1.21.1 in /usr/local/lib/python3.8/dist-packages (from requests>=2.5.0->sphinx<6,>=4->sphinx_design<0.4.0,>=0.3.0->dowhy) (1.24.3)\n",
            "Requirement already satisfied: idna<3,>=2.5 in /usr/local/lib/python3.8/dist-packages (from requests>=2.5.0->sphinx<6,>=4->sphinx_design<0.4.0,>=0.3.0->dowhy) (2.10)\n",
            "Requirement already satisfied: chardet<5,>=3.0.2 in /usr/local/lib/python3.8/dist-packages (from requests>=2.5.0->sphinx<6,>=4->sphinx_design<0.4.0,>=0.3.0->dowhy) (4.0.0)\n",
            "Requirement already satisfied: certifi>=2017.4.17 in /usr/local/lib/python3.8/dist-packages (from requests>=2.5.0->sphinx<6,>=4->sphinx_design<0.4.0,>=0.3.0->dowhy) (2022.12.7)\n",
            "Reading package lists... Done\n",
            "Building dependency tree       \n",
            "Reading state information... Done\n",
            "libgraphviz-dev is already the newest version (2.42.2-3build2).\n",
            "The following package was automatically installed and is no longer required:\n",
            "  libnvidia-common-510\n",
            "Use 'apt autoremove' to remove it.\n",
            "0 upgraded, 0 newly installed, 0 to remove and 21 not upgraded.\n",
            "Looking in indexes: https://pypi.org/simple, https://us-python.pkg.dev/colab-wheels/public/simple/\n",
            "Requirement already satisfied: pygraphviz in /usr/local/lib/python3.8/dist-packages (1.10)\n"
          ]
        }
      ],
      "source": [
        "!pip install dowhy\n",
        "!apt install libgraphviz-dev\n",
        "!pip install pygraphviz"
      ]
    },
    {
      "cell_type": "code",
      "execution_count": 86,
      "metadata": {
        "id": "BtEgA6aw-TqW"
      },
      "outputs": [],
      "source": [
        "import numpy as np\n",
        "import random\n",
        "from scipy import stats\n",
        "import time\n",
        "from collections import defaultdict\n",
        "import warnings\n",
        "from scipy.stats import rankdata\n",
        "import networkx as nx\n",
        "import matplotlib.pyplot as plt\n",
        "import pandas as pd\n",
        "import dowhy\n",
        "from dowhy import CausalModel\n",
        "import graphviz as gr\n",
        "import pygraphviz"
      ]
    },
    {
      "cell_type": "markdown",
      "metadata": {
        "id": "SiKYFyClb8Hp"
      },
      "source": [
        "Useful functions for the SCM part"
      ]
    },
    {
      "cell_type": "code",
      "execution_count": 3,
      "metadata": {
        "id": "oMKAWtKJb-rK"
      },
      "outputs": [],
      "source": [
        "def same(x):\n",
        "    return x\n",
        "    \n",
        "def cube(x):\n",
        "    return np.power(x, 3)\n",
        "\n",
        "def negexp(x):\n",
        "    return np.exp(-np.abs(x))"
      ]
    },
    {
      "cell_type": "markdown",
      "metadata": {
        "id": "6AXsKkPNHfux"
      },
      "source": [
        "##Preliminaries for the estimation of effects parts"
      ]
    },
    {
      "cell_type": "markdown",
      "metadata": {
        "id": "qd4ZurVsHvA8"
      },
      "source": [
        "Install the shap library"
      ]
    },
    {
      "cell_type": "code",
      "execution_count": 4,
      "metadata": {
        "colab": {
          "base_uri": "https://localhost:8080/"
        },
        "id": "7-RnGBG3HpCR",
        "outputId": "55b5e630-bc82-4501-86a3-6388a155a6cb"
      },
      "outputs": [
        {
          "name": "stdout",
          "output_type": "stream",
          "text": [
            "Looking in indexes: https://pypi.org/simple, https://us-python.pkg.dev/colab-wheels/public/simple/\n",
            "Requirement already satisfied: shap in /usr/local/lib/python3.8/dist-packages (0.40.0)\n",
            "Requirement already satisfied: slicer==0.0.7 in /usr/local/lib/python3.8/dist-packages (from shap) (0.0.7)\n",
            "Requirement already satisfied: cloudpickle in /usr/local/lib/python3.8/dist-packages (from shap) (2.2.1)\n",
            "Requirement already satisfied: tqdm>4.25.0 in /usr/local/lib/python3.8/dist-packages (from shap) (4.64.1)\n",
            "Requirement already satisfied: packaging>20.9 in /usr/local/lib/python3.8/dist-packages (from shap) (23.0)\n",
            "Requirement already satisfied: numpy in /usr/local/lib/python3.8/dist-packages (from shap) (1.23.5)\n",
            "Requirement already satisfied: numba in /usr/local/lib/python3.8/dist-packages (from shap) (0.56.4)\n",
            "Requirement already satisfied: pandas in /usr/local/lib/python3.8/dist-packages (from shap) (1.5.3)\n",
            "Requirement already satisfied: scipy in /usr/local/lib/python3.8/dist-packages (from shap) (1.10.0)\n",
            "Requirement already satisfied: scikit-learn in /usr/local/lib/python3.8/dist-packages (from shap) (1.0.2)\n",
            "Requirement already satisfied: importlib-metadata in /usr/local/lib/python3.8/dist-packages (from numba->shap) (6.0.0)\n",
            "Requirement already satisfied: llvmlite<0.40,>=0.39.0dev0 in /usr/local/lib/python3.8/dist-packages (from numba->shap) (0.39.1)\n",
            "Requirement already satisfied: setuptools in /usr/local/lib/python3.8/dist-packages (from numba->shap) (57.4.0)\n",
            "Requirement already satisfied: python-dateutil>=2.8.1 in /usr/local/lib/python3.8/dist-packages (from pandas->shap) (2.8.2)\n",
            "Requirement already satisfied: pytz>=2020.1 in /usr/local/lib/python3.8/dist-packages (from pandas->shap) (2022.7.1)\n",
            "Requirement already satisfied: joblib>=0.11 in /usr/local/lib/python3.8/dist-packages (from scikit-learn->shap) (1.2.0)\n",
            "Requirement already satisfied: threadpoolctl>=2.0.0 in /usr/local/lib/python3.8/dist-packages (from scikit-learn->shap) (3.1.0)\n",
            "Requirement already satisfied: six>=1.5 in /usr/local/lib/python3.8/dist-packages (from python-dateutil>=2.8.1->pandas->shap) (1.15.0)\n",
            "Requirement already satisfied: zipp>=0.5 in /usr/local/lib/python3.8/dist-packages (from importlib-metadata->numba->shap) (3.12.1)\n"
          ]
        }
      ],
      "source": [
        "!pip install shap"
      ]
    },
    {
      "cell_type": "markdown",
      "metadata": {
        "id": "UoibNiILHkzp"
      },
      "source": [
        "Import useful librairies"
      ]
    },
    {
      "cell_type": "code",
      "execution_count": 5,
      "metadata": {
        "id": "NTQ-CHfiHkGN"
      },
      "outputs": [],
      "source": [
        "from sklearn.ensemble import RandomForestRegressor\n",
        "from sklearn.model_selection import train_test_split\n",
        "from sklearn.metrics import mean_squared_error\n",
        "from sklearn.linear_model import LinearRegression\n",
        "from sklearn.neural_network import MLPRegressor\n",
        "import shap"
      ]
    },
    {
      "cell_type": "markdown",
      "metadata": {
        "id": "A6J8H-AuICu5"
      },
      "source": [
        "Create functions that provide plots of RF importances for a given set of preds and outcome\n"
      ]
    },
    {
      "cell_type": "code",
      "execution_count": 6,
      "metadata": {
        "id": "3o6L7R-vISjo"
      },
      "outputs": [],
      "source": [
        "def get_importances(predictors, outcome, feature_names, standardize=False):\n",
        "    '''Gets bi-covs, bi-corrs,linear reg coeffs, RF importances, RF shap and MLP/NN shap output.\n",
        "    :param predictors: array of preds (N, D)\n",
        "    :param outcome: array of outcome (N, 1)\n",
        "    :param feature_names: list of var names as strings\n",
        "    :param standardize: where to standardize the data (does not apply to the computation of\n",
        "    biv_covs, biv_corrs, or lr_coefs).\n",
        "    :return as np.arrays (D,) of biv_corrs, biv_covs, rf_imps, rf_shaps, nn_shap, lin_coefs'''\n",
        "    \n",
        "    biv_covs = []\n",
        "    biv_corrs = []\n",
        "    for i in range(predictors.shape[1]):\n",
        "        biv_covs.append(np.abs(np.cov(predictors[:, i], outcome,))[0,1])\n",
        "        biv_corrs.append(np.abs(np.corrcoef(predictors[:, i], outcome,))[0,1])\n",
        "        \n",
        "    print('------------LR (always unstandardizd)---------------')\n",
        "    # compare with linear regression coefficients\n",
        "    reg = LinearRegression().fit(predictors, outcome)\n",
        "    X_train, X_test, y_train, y_test = train_test_split(predictors, outcome, test_size=0.4, random_state=42)\n",
        "    predictions = reg.predict(X_test)\n",
        "    lr_coefs =  np.abs(reg.coef_)\n",
        "    print('MSE', mean_squared_error(predictions, y_test))\n",
        "    \n",
        "        \n",
        "    if standardize:\n",
        "        predictors = ((predictors - predictors.mean(0)) / (predictors.std(0)))\n",
        "        X_train, X_test, y_train, y_test = train_test_split(predictors, outcome, test_size=0.4, random_state=42)\n",
        "\n",
        "    \n",
        "    print('------------RF---------------')\n",
        "    forest = RandomForestRegressor(random_state=0)\n",
        "    forest.fit(X_train, y_train)\n",
        "    predictions = forest.predict(X_test)\n",
        "    rf_importances = forest.feature_importances_\n",
        "\n",
        "    \n",
        "    shap_sample_inds_train = np.random.choice(np.arange(0,len(X_train)), 500)\n",
        "    shap_sample_inds_test = np.random.choice(np.arange(0,len(X_test)), 500)\n",
        "    explainer = shap.TreeExplainer(forest, X_train[shap_sample_inds_train])\n",
        "    rf_shap_vals = np.mean(np.abs(explainer.shap_values(X_test[shap_sample_inds_test], approximate=True)),0)\n",
        "    print('MSE', mean_squared_error(predictions, y_test))\n",
        "    \n",
        "    print('------------NN---------------')\n",
        "    nn_regr = MLPRegressor(hidden_layer_sizes=(100,),\n",
        "                           activation='relu', solver='adam', alpha=0.0001,\n",
        "                           batch_size='auto', learning_rate='adaptive',\n",
        "                           learning_rate_init=0.001, power_t=0.5, max_iter=200, shuffle=True,)\n",
        "    nn_regr.fit(X_train, y_train)\n",
        "    predictions = nn_regr.predict(X_test)\n",
        "    \n",
        "    explainer = shap.KernelExplainer(nn_regr.predict, shap.sample(X_train, 500))\n",
        "    nn_shap_vals = np.mean(np.abs(explainer.shap_values(X_test, nsamples=500)),0)\n",
        "    print('MSE', mean_squared_error(predictions, y_test))\n",
        "    \n",
        "    \n",
        "\n",
        "    return np.asarray(biv_covs), np.asarray(biv_corrs), rf_importances, rf_shap_vals, nn_shap_vals, lr_coefs"
      ]
    },
    {
      "cell_type": "code",
      "execution_count": 7,
      "metadata": {
        "id": "J9g_dHfWIEPJ"
      },
      "outputs": [],
      "source": [
        "def plot_results(biv_corrs, rf_importances, rf_shap_vals, nn_shap_vals, lr_coef, feature_names, graph_name):\n",
        "    '''Bar plot with variables and different importance measures.'''\n",
        "    \n",
        "    all_results = pd.DataFrame([lr_coef, rf_importances, rf_shap_vals, nn_shap_vals]).T\n",
        "    all_results.index = feature_names\n",
        "    cols = ['LR-coefs', 'RF-imps', 'RF-Shap', 'NN-Shap']\n",
        "    all_results.columns = cols\n",
        "#     min_, max_ = all_results.min(), all_results.max()\n",
        "#     m = (1 - min_) / (max_ - min_)\n",
        "#     b = min_ - m*min_\n",
        "#     all_results = all_results *m + b\n",
        "    all_results.clip(lower=0, upper=1, inplace=True)\n",
        "    all_results['bi-corrs'] = biv_corrs\n",
        "    all_results['Var Names'] = all_results.index\n",
        "\n",
        "    ax = plt.figure(figsize=(10, 6)).add_subplot(111)\n",
        "    all_results.plot(ax=ax, x=\"Var Names\", y=cols.append('bi-corrs'), kind=\"bar\",fontsize=16, alpha=0.7)\n",
        "    bars = ax.patches\n",
        "    hatches = ''.join(h*len(all_results) for h in 'x/O.')\n",
        "    for bar, hatch in zip(bars, hatches):\n",
        "        bar.set_hatch(hatch)\n",
        "    ax.legend(loc='upper right', bbox_to_anchor=(1, 1), ncol=5,fontsize=12)\n",
        "    ax.set_ylim(0, 1.15)\n",
        "    ax.figure.savefig(graph_name, dpi=200)"
      ]
    },
    {
      "cell_type": "markdown",
      "metadata": {
        "id": "vggzlfjsNtqp"
      },
      "source": [
        "####**Basic situations**"
      ]
    },
    {
      "cell_type": "markdown",
      "metadata": {
        "id": "fwxIzqEYZQn2"
      },
      "source": [
        "We shall generate four basic situations"
      ]
    },
    {
      "cell_type": "markdown",
      "metadata": {
        "id": "jL4RaiB0dU-k"
      },
      "source": [
        "### **Situation 1 : Independency**\n",
        "$X$ and $Y$ are independent"
      ]
    },
    {
      "cell_type": "code",
      "execution_count": 9,
      "metadata": {
        "id": "uYZOLEPLqbhp"
      },
      "outputs": [],
      "source": [
        "def generate_samples_indep(size,fixed_function1,fixed_function2, normalize = True, seed = None):\n",
        "    '''Generate independent post-nonlinear samples\n",
        "    Arguments:\n",
        "        size : number of samples\n",
        "        f1, f2 to be within {x,x^2,x^3, e^{-|x|}, cos x}\n",
        "    Output:\n",
        "        Samples X, Y\n",
        "    '''\n",
        "    if seed == None:\n",
        "        np.random.seed()\n",
        "    else:\n",
        "        np.random.seed(seed)\n",
        "\n",
        "    if fixed_function1 == 'linear':\n",
        "      f1 = same\n",
        "    elif fixed_function1=='carre':\n",
        "      f1 = np.square\n",
        "    elif fixed_function1=='cube':\n",
        "      f1 = cube\n",
        "    elif fixed_function1=='negexp':\n",
        "      f1 = negexp\n",
        "    else:\n",
        "      f1 = np.cos\n",
        "\n",
        "    if fixed_function2 == 'linear':\n",
        "      f2= same\n",
        "    elif fixed_function2=='carre':\n",
        "      f2 = np.square\n",
        "    elif fixed_function2=='cube':\n",
        "      f2 = cube\n",
        "    elif fixed_function2=='negexp':\n",
        "      f2 = negexp\n",
        "    else:\n",
        "      f2 = np.cos\n",
        "\n",
        "    X = f1(np.random.normal(0, 1, size))\n",
        "    Y = f2(np.random.normal(0, 1, size))\n",
        "\n",
        "    if normalize == True:\n",
        "        X = (X - X.min()) / (X.max() - X.min())\n",
        "        Y = (Y - Y.min()) / (Y.max() - Y.min())\n",
        "\n",
        "    return np.array(X), np.array(Y)"
      ]
    },
    {
      "cell_type": "markdown",
      "metadata": {
        "id": "UN2RcYnGZtO-"
      },
      "source": [
        "### **Situation 2 : Fork**  \n",
        "$Z$ is a common cause to $X$ and $Y$."
      ]
    },
    {
      "cell_type": "markdown",
      "metadata": {
        "id": "sDtKmZGGaEHi"
      },
      "source": [
        "We represent the graphical model"
      ]
    },
    {
      "cell_type": "code",
      "execution_count": 10,
      "metadata": {
        "colab": {
          "base_uri": "https://localhost:8080/",
          "height": 176
        },
        "id": "TJn9kWZxXfsT",
        "outputId": "6bd21b7d-34e9-4c33-f393-923a95e2ec10"
      },
      "outputs": [
        {
          "data": {
            "image/svg+xml": "<?xml version=\"1.0\" encoding=\"UTF-8\" standalone=\"no\"?>\n<!DOCTYPE svg PUBLIC \"-//W3C//DTD SVG 1.1//EN\"\n \"http://www.w3.org/Graphics/SVG/1.1/DTD/svg11.dtd\">\n<!-- Generated by graphviz version 2.43.0 (0)\n -->\n<!-- Title: %3 Pages: 1 -->\n<svg width=\"134pt\" height=\"116pt\"\n viewBox=\"0.00 0.00 134.00 116.00\" xmlns=\"http://www.w3.org/2000/svg\" xmlns:xlink=\"http://www.w3.org/1999/xlink\">\n<g id=\"graph0\" class=\"graph\" transform=\"scale(1 1) rotate(0) translate(4 112)\">\n<title>%3</title>\n<polygon fill=\"white\" stroke=\"transparent\" points=\"-4,4 -4,-112 130,-112 130,4 -4,4\"/>\n<!-- Z -->\n<g id=\"node1\" class=\"node\">\n<title>Z</title>\n<ellipse fill=\"none\" stroke=\"black\" cx=\"63\" cy=\"-90\" rx=\"27\" ry=\"18\"/>\n<text text-anchor=\"middle\" x=\"63\" y=\"-86.3\" font-family=\"Times,serif\" font-size=\"14.00\">Z</text>\n</g>\n<!-- X -->\n<g id=\"node2\" class=\"node\">\n<title>X</title>\n<ellipse fill=\"none\" stroke=\"black\" cx=\"27\" cy=\"-18\" rx=\"27\" ry=\"18\"/>\n<text text-anchor=\"middle\" x=\"27\" y=\"-14.3\" font-family=\"Times,serif\" font-size=\"14.00\">X</text>\n</g>\n<!-- Z&#45;&gt;X -->\n<g id=\"edge1\" class=\"edge\">\n<title>Z&#45;&gt;X</title>\n<path fill=\"none\" stroke=\"black\" d=\"M54.65,-72.76C50.29,-64.28 44.85,-53.71 39.96,-44.2\"/>\n<polygon fill=\"black\" stroke=\"black\" points=\"42.99,-42.44 35.3,-35.15 36.77,-45.64 42.99,-42.44\"/>\n</g>\n<!-- Y -->\n<g id=\"node3\" class=\"node\">\n<title>Y</title>\n<ellipse fill=\"none\" stroke=\"black\" cx=\"99\" cy=\"-18\" rx=\"27\" ry=\"18\"/>\n<text text-anchor=\"middle\" x=\"99\" y=\"-14.3\" font-family=\"Times,serif\" font-size=\"14.00\">Y</text>\n</g>\n<!-- Z&#45;&gt;Y -->\n<g id=\"edge2\" class=\"edge\">\n<title>Z&#45;&gt;Y</title>\n<path fill=\"none\" stroke=\"black\" d=\"M71.35,-72.76C75.71,-64.28 81.15,-53.71 86.04,-44.2\"/>\n<polygon fill=\"black\" stroke=\"black\" points=\"89.23,-45.64 90.7,-35.15 83.01,-42.44 89.23,-45.64\"/>\n</g>\n</g>\n</svg>\n",
            "text/plain": [
              "<graphviz.dot.Digraph at 0x7f3be2022a30>"
            ]
          },
          "execution_count": 10,
          "metadata": {},
          "output_type": "execute_result"
        }
      ],
      "source": [
        "g = gr.Digraph()\n",
        "g.edge(\"Z\", \"X\"), g.edge(\"Z\", \"Y\")\n",
        "g"
      ]
    },
    {
      "cell_type": "markdown",
      "metadata": {
        "id": "HZUo_oD7dOVv"
      },
      "source": [
        "To simulate a fork, we shall use the following SCM  \\\\\n",
        "$$X=f_1(a_1\\cdot Z+\\varepsilon_1)$$\n",
        "$$Y=f_2(a_2\\cdot Z+\\varepsilon_2)$$\n",
        "where $(Z,\\varepsilon_1,\\varepsilon_2)$ are independent r.v.'s and where the variance of the two noise variables $\\varepsilon_1$ and $\\varepsilon_2$ are $\\sigma^2$"
      ]
    },
    {
      "cell_type": "code",
      "execution_count": 11,
      "metadata": {
        "id": "5zBktHmHTKi2"
      },
      "outputs": [],
      "source": [
        "def generate_samples_fork(size,fixed_function1,fixed_function2, dist_z,dz,aX,aY,nstd,normalize = True, seed = None):\n",
        "    '''Generate independent post-nonlinear samples\n",
        "    Arguments:\n",
        "        size : number of samples\n",
        "        f1, f2 to be within {x,x^2,x^3, e^{-|x|}, cos x}\n",
        "    Output:\n",
        "        Samples X, Y,Z\n",
        "    '''\n",
        "    if seed == None:\n",
        "        np.random.seed()\n",
        "    else:\n",
        "        np.random.seed(seed)\n",
        "\n",
        "    if fixed_function1 == 'linear':\n",
        "      f1 = same\n",
        "    elif fixed_function1=='carre':\n",
        "      f1 = np.square\n",
        "    elif fixed_function1=='cube':\n",
        "      f1 = cube\n",
        "    elif fixed_function1=='negexp':\n",
        "      f1 = negexp\n",
        "    else:\n",
        "      f1 = np.cos\n",
        "\n",
        "    if fixed_function2 == 'linear':\n",
        "      f2= same\n",
        "    elif fixed_function2=='carre':\n",
        "      f2 = np.square\n",
        "    elif fixed_function2=='cube':\n",
        "      f2 = cube\n",
        "    elif fixed_function2=='negexp':\n",
        "      f2 = negexp\n",
        "    else:\n",
        "      f2 = np.cos\n",
        "    \n",
        "    if dist_z =='gaussian':\n",
        "        cov = np.eye(dz)\n",
        "        mu = np.ones(dz)\n",
        "        Z = np.random.multivariate_normal(mu, cov, size)\n",
        "        Z = np.matrix(Z)\n",
        "\n",
        "    elif dist_z == 'laplace':\n",
        "        Z = np.random.laplace(loc=0.0, scale=1.0, size=size*dz)\n",
        "        Z = np.reshape(Z,(size,dz))\n",
        "        Z = np.matrix(Z)\n",
        "\n",
        "    X = f1(np.dot(aX,Z)+nstd * np.random.normal(0, 1, (size, 1)))\n",
        "    Y = f2(np.dot(aY,Z)+nstd * np.random.normal(0, 1, (size, 1)))\n",
        "\n",
        "    if normalize == True:\n",
        "        X = (X - X.min()) / (X.max() - X.min())\n",
        "        Y = (Y - Y.min()) / (Y.max() - Y.min())\n",
        "        Z = (Z - Z.min()) / (Z.max() - Z.min())\n",
        "\n",
        "    return np.array(X), np.array(Y),np.array(Z)"
      ]
    },
    {
      "cell_type": "markdown",
      "metadata": {
        "id": "ntfpUF3ualBC"
      },
      "source": [
        "###**Situation 3 : collider**\n",
        "$Z$ has two causes $X$ and $Y$"
      ]
    },
    {
      "cell_type": "markdown",
      "metadata": {
        "id": "wAkuDsypa3PN"
      },
      "source": [
        "We represent the graphical model "
      ]
    },
    {
      "cell_type": "code",
      "execution_count": 12,
      "metadata": {
        "colab": {
          "base_uri": "https://localhost:8080/",
          "height": 176
        },
        "id": "rWkztu3ma4g8",
        "outputId": "71fc6020-1ac6-4299-c0c1-23e65c7a61e9"
      },
      "outputs": [
        {
          "data": {
            "image/svg+xml": "<?xml version=\"1.0\" encoding=\"UTF-8\" standalone=\"no\"?>\n<!DOCTYPE svg PUBLIC \"-//W3C//DTD SVG 1.1//EN\"\n \"http://www.w3.org/Graphics/SVG/1.1/DTD/svg11.dtd\">\n<!-- Generated by graphviz version 2.43.0 (0)\n -->\n<!-- Title: %3 Pages: 1 -->\n<svg width=\"134pt\" height=\"116pt\"\n viewBox=\"0.00 0.00 134.00 116.00\" xmlns=\"http://www.w3.org/2000/svg\" xmlns:xlink=\"http://www.w3.org/1999/xlink\">\n<g id=\"graph0\" class=\"graph\" transform=\"scale(1 1) rotate(0) translate(4 112)\">\n<title>%3</title>\n<polygon fill=\"white\" stroke=\"transparent\" points=\"-4,4 -4,-112 130,-112 130,4 -4,4\"/>\n<!-- X -->\n<g id=\"node1\" class=\"node\">\n<title>X</title>\n<ellipse fill=\"none\" stroke=\"black\" cx=\"27\" cy=\"-90\" rx=\"27\" ry=\"18\"/>\n<text text-anchor=\"middle\" x=\"27\" y=\"-86.3\" font-family=\"Times,serif\" font-size=\"14.00\">X</text>\n</g>\n<!-- Z -->\n<g id=\"node2\" class=\"node\">\n<title>Z</title>\n<ellipse fill=\"none\" stroke=\"black\" cx=\"63\" cy=\"-18\" rx=\"27\" ry=\"18\"/>\n<text text-anchor=\"middle\" x=\"63\" y=\"-14.3\" font-family=\"Times,serif\" font-size=\"14.00\">Z</text>\n</g>\n<!-- X&#45;&gt;Z -->\n<g id=\"edge1\" class=\"edge\">\n<title>X&#45;&gt;Z</title>\n<path fill=\"none\" stroke=\"black\" d=\"M35.35,-72.76C39.71,-64.28 45.15,-53.71 50.04,-44.2\"/>\n<polygon fill=\"black\" stroke=\"black\" points=\"53.23,-45.64 54.7,-35.15 47.01,-42.44 53.23,-45.64\"/>\n</g>\n<!-- Y -->\n<g id=\"node3\" class=\"node\">\n<title>Y</title>\n<ellipse fill=\"none\" stroke=\"black\" cx=\"99\" cy=\"-90\" rx=\"27\" ry=\"18\"/>\n<text text-anchor=\"middle\" x=\"99\" y=\"-86.3\" font-family=\"Times,serif\" font-size=\"14.00\">Y</text>\n</g>\n<!-- Y&#45;&gt;Z -->\n<g id=\"edge2\" class=\"edge\">\n<title>Y&#45;&gt;Z</title>\n<path fill=\"none\" stroke=\"black\" d=\"M90.65,-72.76C86.29,-64.28 80.85,-53.71 75.96,-44.2\"/>\n<polygon fill=\"black\" stroke=\"black\" points=\"78.99,-42.44 71.3,-35.15 72.77,-45.64 78.99,-42.44\"/>\n</g>\n</g>\n</svg>\n",
            "text/plain": [
              "<graphviz.dot.Digraph at 0x7f3be2022fd0>"
            ]
          },
          "execution_count": 12,
          "metadata": {},
          "output_type": "execute_result"
        }
      ],
      "source": [
        "g = gr.Digraph()\n",
        "g.edge(\"X\", \"Z\"), g.edge(\"Y\", \"Z\")\n",
        "g"
      ]
    },
    {
      "cell_type": "markdown",
      "metadata": {
        "id": "hUyulNorddj8"
      },
      "source": [
        "To simulate a collider, we simulate the corresponding SCM :\n",
        "$$Z=f(a_X\\cdot X+a_Y\\cdot Y+\\varepsilon)$$\n",
        "with $(\\varepsilon,X,Y)$ independent random variables"
      ]
    },
    {
      "cell_type": "code",
      "execution_count": 13,
      "metadata": {
        "id": "phI--ZI5WSlF"
      },
      "outputs": [],
      "source": [
        "def generate_samples_collider(size,fixed_function, dist_x,dist_y,dx,dy,aX,aY,nstd,normalize = True, seed = None):\n",
        "    '''Generate independent post-nonlinear samples\n",
        "    Arguments:\n",
        "        size : number of samples\n",
        "        f1, f2 to be within {x,x^2,x^3, e^{-|x|}, cos x}\n",
        "    Output:\n",
        "        Samples X, Y,Z\n",
        "    '''\n",
        "    if seed == None:\n",
        "        np.random.seed()\n",
        "    else:\n",
        "        np.random.seed(seed)\n",
        "\n",
        "    if fixed_function == 'linear':\n",
        "      f = same\n",
        "    elif fixed_function=='carre':\n",
        "      f = np.square\n",
        "    elif fixed_function=='cube':\n",
        "      f = cube\n",
        "    elif fixed_function=='negexp':\n",
        "      f = negexp\n",
        "    else:\n",
        "      f = np.cos\n",
        "\n",
        "    if dist_x =='gaussian':\n",
        "        cov = np.eye(dx)\n",
        "        mu = np.ones(dx)\n",
        "        X = np.random.multivariate_normal(mu, cov, size)\n",
        "        X = np.matrix(X)\n",
        "\n",
        "    elif dist_x == 'laplace':\n",
        "        X = np.random.laplace(loc=0.0, scale=1.0, size=size*dx)\n",
        "        X = np.reshape(X,(size,dx))\n",
        "        X = np.matrix(X)\n",
        "\n",
        "    if dist_y =='gaussian':\n",
        "        cov = np.eye(dy)\n",
        "        mu = np.ones(dy)\n",
        "        Y = np.random.multivariate_normal(mu, cov, size)\n",
        "        Y = np.matrix(Y)\n",
        "\n",
        "    elif dist_y == 'laplace':\n",
        "        Y = np.random.laplace(loc=0.0, scale=1.0, size=size*dy)\n",
        "        Y = np.reshape(Y,(size,dy))\n",
        "        Y = np.matrix(Y)\n",
        "\n",
        "    Z = f(np.dot(aX,X)+np.dot(aY,Y)+nstd * np.random.normal(0, 1))\n",
        "    \n",
        "    if normalize == True:\n",
        "        X = (X - X.min()) / (X.max() - X.min())\n",
        "        Y = (Y - Y.min()) / (Y.max() - Y.min())\n",
        "        Z = (Z - Z.min()) / (Z.max() - Z.min())\n",
        "\n",
        "    return np.array(X), np.array(Y),np.array(Z)"
      ]
    },
    {
      "cell_type": "markdown",
      "metadata": {
        "id": "vnXiUif3o098"
      },
      "source": [
        "### **Situation 4 : chain**\n",
        "$X$ is a cause of $Y$ which is itself a cause of $Z$"
      ]
    },
    {
      "cell_type": "markdown",
      "metadata": {
        "id": "YTCJoWWQb_DV"
      },
      "source": [
        "We represent the graphical model"
      ]
    },
    {
      "cell_type": "code",
      "execution_count": 14,
      "metadata": {
        "colab": {
          "base_uri": "https://localhost:8080/",
          "height": 272
        },
        "id": "Hv6lz9xicByj",
        "outputId": "c7d8e7ca-c431-4a71-871b-1963fb3037d5"
      },
      "outputs": [
        {
          "data": {
            "image/svg+xml": "<?xml version=\"1.0\" encoding=\"UTF-8\" standalone=\"no\"?>\n<!DOCTYPE svg PUBLIC \"-//W3C//DTD SVG 1.1//EN\"\n \"http://www.w3.org/Graphics/SVG/1.1/DTD/svg11.dtd\">\n<!-- Generated by graphviz version 2.43.0 (0)\n -->\n<!-- Title: %3 Pages: 1 -->\n<svg width=\"62pt\" height=\"188pt\"\n viewBox=\"0.00 0.00 62.00 188.00\" xmlns=\"http://www.w3.org/2000/svg\" xmlns:xlink=\"http://www.w3.org/1999/xlink\">\n<g id=\"graph0\" class=\"graph\" transform=\"scale(1 1) rotate(0) translate(4 184)\">\n<title>%3</title>\n<polygon fill=\"white\" stroke=\"transparent\" points=\"-4,4 -4,-184 58,-184 58,4 -4,4\"/>\n<!-- X -->\n<g id=\"node1\" class=\"node\">\n<title>X</title>\n<ellipse fill=\"none\" stroke=\"black\" cx=\"27\" cy=\"-162\" rx=\"27\" ry=\"18\"/>\n<text text-anchor=\"middle\" x=\"27\" y=\"-158.3\" font-family=\"Times,serif\" font-size=\"14.00\">X</text>\n</g>\n<!-- Y -->\n<g id=\"node2\" class=\"node\">\n<title>Y</title>\n<ellipse fill=\"none\" stroke=\"black\" cx=\"27\" cy=\"-90\" rx=\"27\" ry=\"18\"/>\n<text text-anchor=\"middle\" x=\"27\" y=\"-86.3\" font-family=\"Times,serif\" font-size=\"14.00\">Y</text>\n</g>\n<!-- X&#45;&gt;Y -->\n<g id=\"edge1\" class=\"edge\">\n<title>X&#45;&gt;Y</title>\n<path fill=\"none\" stroke=\"black\" d=\"M27,-143.7C27,-135.98 27,-126.71 27,-118.11\"/>\n<polygon fill=\"black\" stroke=\"black\" points=\"30.5,-118.1 27,-108.1 23.5,-118.1 30.5,-118.1\"/>\n</g>\n<!-- Z -->\n<g id=\"node3\" class=\"node\">\n<title>Z</title>\n<ellipse fill=\"none\" stroke=\"black\" cx=\"27\" cy=\"-18\" rx=\"27\" ry=\"18\"/>\n<text text-anchor=\"middle\" x=\"27\" y=\"-14.3\" font-family=\"Times,serif\" font-size=\"14.00\">Z</text>\n</g>\n<!-- Y&#45;&gt;Z -->\n<g id=\"edge2\" class=\"edge\">\n<title>Y&#45;&gt;Z</title>\n<path fill=\"none\" stroke=\"black\" d=\"M27,-71.7C27,-63.98 27,-54.71 27,-46.11\"/>\n<polygon fill=\"black\" stroke=\"black\" points=\"30.5,-46.1 27,-36.1 23.5,-46.1 30.5,-46.1\"/>\n</g>\n</g>\n</svg>\n",
            "text/plain": [
              "<graphviz.dot.Digraph at 0x7f3be2022b80>"
            ]
          },
          "execution_count": 14,
          "metadata": {},
          "output_type": "execute_result"
        }
      ],
      "source": [
        "g = gr.Digraph()\n",
        "g.edge(\"X\", \"Y\"), g.edge(\"Y\", \"Z\")\n",
        "g"
      ]
    },
    {
      "cell_type": "markdown",
      "metadata": {
        "id": "5IGgQ2vrcKhI"
      },
      "source": [
        "To simulate a chain, we simulate the corresponding SCM :\n",
        "$$Y=f(a_X X+\\varepsilon_1)$$\n",
        "$$Z=f(a_Y Y+\\varepsilon_2)$$\n",
        "with $(\\varepsilon_1,\\varepsilon_2,X)$ independent random variables"
      ]
    },
    {
      "cell_type": "code",
      "execution_count": 15,
      "metadata": {
        "id": "ORMX9wI3ck5Z"
      },
      "outputs": [],
      "source": [
        "def generate_samples_chain(size,fixed_function, dist_x,dx,aX,aY,nstd,normalize = True, seed = None):\n",
        "    '''Generate independent post-nonlinear samples\n",
        "    Arguments:\n",
        "        size : number of samples\n",
        "        f1, f2 to be within {x,x^2,x^3, e^{-|x|}, cos x}\n",
        "    Output:\n",
        "        Samples X, Y,Z\n",
        "    '''\n",
        "    if seed == None:\n",
        "        np.random.seed()\n",
        "    else:\n",
        "        np.random.seed(seed)\n",
        "\n",
        "    if fixed_function == 'linear':\n",
        "      f = same\n",
        "    elif fixed_function=='carre':\n",
        "      f = np.square\n",
        "    elif fixed_function=='cube':\n",
        "      f = cube\n",
        "    elif fixed_function=='negexp':\n",
        "      f = negexp\n",
        "    else:\n",
        "      f = np.cos\n",
        "\n",
        "    if dist_x =='gaussian':\n",
        "        cov = np.eye(dx)\n",
        "        mu = np.ones(dx)\n",
        "        X = np.random.multivariate_normal(mu, cov, size)\n",
        "        X = np.matrix(X)\n",
        "\n",
        "    elif dist_x == 'laplace':\n",
        "        X = np.random.laplace(loc=0.0, scale=1.0, size=size*dx)\n",
        "        X = np.reshape(X,(size,dx))\n",
        "        X = np.matrix(X)\n",
        "\n",
        "    Y = f(np.dot(aX,X)+nstd * np.random.normal(0, 1))\n",
        "    Z = f(aY*Y+nstd * np.random.normal(0, 1))\n",
        "    \n",
        "    if normalize == True:\n",
        "        X = (X - X.min()) / (X.max() - X.min())\n",
        "        Y = (Y - Y.min()) / (Y.max() - Y.min())\n",
        "        Z = (Z - Z.min()) / (Z.max() - Z.min())\n",
        "\n",
        "    return np.array(X), np.array(Y),np.array(Z)"
      ]
    },
    {
      "cell_type": "markdown",
      "metadata": {
        "id": "pcsmf76ndkqN"
      },
      "source": [
        "### **Intervention and counterfactual through an example**"
      ]
    },
    {
      "cell_type": "markdown",
      "metadata": {
        "id": "PKSS_KTCkIJl"
      },
      "source": [
        "We simulate an example\n",
        "$$T=f_1(a_1\\cdot X+\\varepsilon_1)$$\n",
        "$$Y=f_2(a_2\\cdot T+ b_2\\cdot X+\\varepsilon_2)$$\n",
        "where $X,\\varepsilon_1,\\varepsilon_2$ are independent random variables whose distribution is known"
      ]
    },
    {
      "cell_type": "code",
      "execution_count": 18,
      "metadata": {
        "colab": {
          "base_uri": "https://localhost:8080/",
          "height": 272
        },
        "id": "fZeQZQoNeZ_9",
        "outputId": "34a78219-2e22-4b19-f1f7-bcdaf8a58055"
      },
      "outputs": [
        {
          "data": {
            "image/svg+xml": "<?xml version=\"1.0\" encoding=\"UTF-8\" standalone=\"no\"?>\n<!DOCTYPE svg PUBLIC \"-//W3C//DTD SVG 1.1//EN\"\n \"http://www.w3.org/Graphics/SVG/1.1/DTD/svg11.dtd\">\n<!-- Generated by graphviz version 2.43.0 (0)\n -->\n<!-- Title: %3 Pages: 1 -->\n<svg width=\"89pt\" height=\"188pt\"\n viewBox=\"0.00 0.00 89.00 188.00\" xmlns=\"http://www.w3.org/2000/svg\" xmlns:xlink=\"http://www.w3.org/1999/xlink\">\n<g id=\"graph0\" class=\"graph\" transform=\"scale(1 1) rotate(0) translate(4 184)\">\n<title>%3</title>\n<polygon fill=\"white\" stroke=\"transparent\" points=\"-4,4 -4,-184 85,-184 85,4 -4,4\"/>\n<!-- X -->\n<g id=\"node1\" class=\"node\">\n<title>X</title>\n<ellipse fill=\"none\" stroke=\"black\" cx=\"54\" cy=\"-162\" rx=\"27\" ry=\"18\"/>\n<text text-anchor=\"middle\" x=\"54\" y=\"-158.3\" font-family=\"Times,serif\" font-size=\"14.00\">X</text>\n</g>\n<!-- T -->\n<g id=\"node2\" class=\"node\">\n<title>T</title>\n<ellipse fill=\"none\" stroke=\"black\" cx=\"27\" cy=\"-90\" rx=\"27\" ry=\"18\"/>\n<text text-anchor=\"middle\" x=\"27\" y=\"-86.3\" font-family=\"Times,serif\" font-size=\"14.00\">T</text>\n</g>\n<!-- X&#45;&gt;T -->\n<g id=\"edge1\" class=\"edge\">\n<title>X&#45;&gt;T</title>\n<path fill=\"none\" stroke=\"black\" d=\"M47.6,-144.41C44.49,-136.34 40.67,-126.43 37.17,-117.35\"/>\n<polygon fill=\"black\" stroke=\"black\" points=\"40.4,-116.03 33.54,-107.96 33.87,-118.55 40.4,-116.03\"/>\n</g>\n<!-- Y -->\n<g id=\"node3\" class=\"node\">\n<title>Y</title>\n<ellipse fill=\"none\" stroke=\"black\" cx=\"54\" cy=\"-18\" rx=\"27\" ry=\"18\"/>\n<text text-anchor=\"middle\" x=\"54\" y=\"-14.3\" font-family=\"Times,serif\" font-size=\"14.00\">Y</text>\n</g>\n<!-- X&#45;&gt;Y -->\n<g id=\"edge3\" class=\"edge\">\n<title>X&#45;&gt;Y</title>\n<path fill=\"none\" stroke=\"black\" d=\"M57.65,-143.91C59.68,-133.57 61.98,-120.09 63,-108 64.34,-92.06 64.34,-87.94 63,-72 62.28,-63.5 60.93,-54.31 59.49,-46.01\"/>\n<polygon fill=\"black\" stroke=\"black\" points=\"62.91,-45.29 57.65,-36.09 56.03,-46.56 62.91,-45.29\"/>\n</g>\n<!-- T&#45;&gt;Y -->\n<g id=\"edge2\" class=\"edge\">\n<title>T&#45;&gt;Y</title>\n<path fill=\"none\" stroke=\"black\" d=\"M33.4,-72.41C36.51,-64.34 40.33,-54.43 43.83,-45.35\"/>\n<polygon fill=\"black\" stroke=\"black\" points=\"47.13,-46.55 47.46,-35.96 40.6,-44.03 47.13,-46.55\"/>\n</g>\n</g>\n</svg>\n",
            "text/plain": [
              "<graphviz.dot.Digraph at 0x7f3be1519670>"
            ]
          },
          "execution_count": 18,
          "metadata": {},
          "output_type": "execute_result"
        }
      ],
      "source": [
        "g = gr.Digraph()\n",
        "g.edge(\"X\", \"T\"), g.edge(\"T\", \"Y\"), g.edge(\"X\", \"Y\")\n",
        "g"
      ]
    },
    {
      "cell_type": "markdown",
      "metadata": {
        "id": "lhP0ZxCqei1v"
      },
      "source": [
        "Generation of the SCM"
      ]
    },
    {
      "cell_type": "code",
      "execution_count": 16,
      "metadata": {
        "id": "rfiARIT7d6eE"
      },
      "outputs": [],
      "source": [
        "def generate_samples(size,fixed_function1,fixed_function2, dist_x,dx,a1,a2,b2,nstd,seed = None,normalize=True):\n",
        "    '''Generate independent post-nonlinear samples\n",
        "    Arguments:\n",
        "        size : number of samples\n",
        "        f1, f2 to be within {x,x^2,x^3,tanh x, e^{-|x|}, cos x}\n",
        "    Output:\n",
        "        Samples X,T,Y\n",
        "    '''\n",
        "    if seed == None:\n",
        "        np.random.seed()\n",
        "    else:\n",
        "        np.random.seed(seed)\n",
        "\n",
        "    if fixed_function1 == 'linear':\n",
        "      f1 = same\n",
        "    elif fixed_function1=='carre':\n",
        "      f1 = np.square\n",
        "    elif fixed_function1=='cube':\n",
        "      f1 = cube\n",
        "    elif fixed_function1=='negexp':\n",
        "      f1 = negexp\n",
        "    else:\n",
        "      f1 = np.cos\n",
        "\n",
        "    if fixed_function2 == 'linear':\n",
        "      f2= same\n",
        "    elif fixed_function2=='carre':\n",
        "      f2 = np.square\n",
        "    elif fixed_function2=='cube':\n",
        "      f2 = cube\n",
        "    elif fixed_function2=='negexp':\n",
        "      f2 = negexp\n",
        "    else:\n",
        "      f2 = np.cos\n",
        "    \n",
        "    if dist_x =='gaussian':\n",
        "        cov = np.eye(dx)\n",
        "        mu = np.ones(dx)\n",
        "        X = np.random.multivariate_normal(mu, cov, size)\n",
        "\n",
        "    elif dist_x == 'laplace':\n",
        "        X = np.random.laplace(loc=0.0, scale=1.0, size=size*dx)\n",
        "        if (dx!=1):\n",
        "          X = np.reshape(X,(size,dx))\n",
        "\n",
        "    T = f1(np.dot(a1,X)+nstd * np.random.normal(0, 1, size))\n",
        "    Y = f2(np.dot(a2,T)+b2*X+nstd * np.random.normal(0, 1, size))\n",
        "\n",
        "    if normalize == True:\n",
        "        X = (X - X.min()) / (X.max() - X.min())\n",
        "        T = (T - T.min()) / (T.max() - T.min())\n",
        "        Y = (Y - Y.min()) / (Y.max() - Y.min())\n",
        "\n",
        "    return [X,T,Y]"
      ]
    },
    {
      "cell_type": "code",
      "execution_count": 17,
      "metadata": {
        "colab": {
          "base_uri": "https://localhost:8080/",
          "height": 424
        },
        "id": "q8Cf1oPseFqS",
        "outputId": "bc94c715-0060-4b41-9d15-8628f8261690"
      },
      "outputs": [
        {
          "data": {
            "text/html": [
              "\n",
              "  <div id=\"df-d85ac894-5f72-46fe-8439-56a809152f33\">\n",
              "    <div class=\"colab-df-container\">\n",
              "      <div>\n",
              "<style scoped>\n",
              "    .dataframe tbody tr th:only-of-type {\n",
              "        vertical-align: middle;\n",
              "    }\n",
              "\n",
              "    .dataframe tbody tr th {\n",
              "        vertical-align: top;\n",
              "    }\n",
              "\n",
              "    .dataframe thead th {\n",
              "        text-align: right;\n",
              "    }\n",
              "</style>\n",
              "<table border=\"1\" class=\"dataframe\">\n",
              "  <thead>\n",
              "    <tr style=\"text-align: right;\">\n",
              "      <th></th>\n",
              "      <th>X</th>\n",
              "      <th>T</th>\n",
              "      <th>Y</th>\n",
              "    </tr>\n",
              "  </thead>\n",
              "  <tbody>\n",
              "    <tr>\n",
              "      <th>0</th>\n",
              "      <td>0.534263</td>\n",
              "      <td>0.260569</td>\n",
              "      <td>0.000540</td>\n",
              "    </tr>\n",
              "    <tr>\n",
              "      <th>1</th>\n",
              "      <td>0.263968</td>\n",
              "      <td>0.249165</td>\n",
              "      <td>0.000028</td>\n",
              "    </tr>\n",
              "    <tr>\n",
              "      <th>2</th>\n",
              "      <td>0.386837</td>\n",
              "      <td>0.251142</td>\n",
              "      <td>0.000085</td>\n",
              "    </tr>\n",
              "    <tr>\n",
              "      <th>3</th>\n",
              "      <td>0.350574</td>\n",
              "      <td>0.250173</td>\n",
              "      <td>0.000057</td>\n",
              "    </tr>\n",
              "    <tr>\n",
              "      <th>4</th>\n",
              "      <td>0.673522</td>\n",
              "      <td>0.281381</td>\n",
              "      <td>0.002728</td>\n",
              "    </tr>\n",
              "    <tr>\n",
              "      <th>...</th>\n",
              "      <td>...</td>\n",
              "      <td>...</td>\n",
              "      <td>...</td>\n",
              "    </tr>\n",
              "    <tr>\n",
              "      <th>95</th>\n",
              "      <td>0.423019</td>\n",
              "      <td>0.252553</td>\n",
              "      <td>0.000132</td>\n",
              "    </tr>\n",
              "    <tr>\n",
              "      <th>96</th>\n",
              "      <td>0.497060</td>\n",
              "      <td>0.257181</td>\n",
              "      <td>0.000337</td>\n",
              "    </tr>\n",
              "    <tr>\n",
              "      <th>97</th>\n",
              "      <td>0.430913</td>\n",
              "      <td>0.252929</td>\n",
              "      <td>0.000145</td>\n",
              "    </tr>\n",
              "    <tr>\n",
              "      <th>98</th>\n",
              "      <td>0.843581</td>\n",
              "      <td>0.329592</td>\n",
              "      <td>0.013870</td>\n",
              "    </tr>\n",
              "    <tr>\n",
              "      <th>99</th>\n",
              "      <td>0.610401</td>\n",
              "      <td>0.270197</td>\n",
              "      <td>0.001352</td>\n",
              "    </tr>\n",
              "  </tbody>\n",
              "</table>\n",
              "<p>100 rows × 3 columns</p>\n",
              "</div>\n",
              "      <button class=\"colab-df-convert\" onclick=\"convertToInteractive('df-d85ac894-5f72-46fe-8439-56a809152f33')\"\n",
              "              title=\"Convert this dataframe to an interactive table.\"\n",
              "              style=\"display:none;\">\n",
              "        \n",
              "  <svg xmlns=\"http://www.w3.org/2000/svg\" height=\"24px\"viewBox=\"0 0 24 24\"\n",
              "       width=\"24px\">\n",
              "    <path d=\"M0 0h24v24H0V0z\" fill=\"none\"/>\n",
              "    <path d=\"M18.56 5.44l.94 2.06.94-2.06 2.06-.94-2.06-.94-.94-2.06-.94 2.06-2.06.94zm-11 1L8.5 8.5l.94-2.06 2.06-.94-2.06-.94L8.5 2.5l-.94 2.06-2.06.94zm10 10l.94 2.06.94-2.06 2.06-.94-2.06-.94-.94-2.06-.94 2.06-2.06.94z\"/><path d=\"M17.41 7.96l-1.37-1.37c-.4-.4-.92-.59-1.43-.59-.52 0-1.04.2-1.43.59L10.3 9.45l-7.72 7.72c-.78.78-.78 2.05 0 2.83L4 21.41c.39.39.9.59 1.41.59.51 0 1.02-.2 1.41-.59l7.78-7.78 2.81-2.81c.8-.78.8-2.07 0-2.86zM5.41 20L4 18.59l7.72-7.72 1.47 1.35L5.41 20z\"/>\n",
              "  </svg>\n",
              "      </button>\n",
              "      \n",
              "  <style>\n",
              "    .colab-df-container {\n",
              "      display:flex;\n",
              "      flex-wrap:wrap;\n",
              "      gap: 12px;\n",
              "    }\n",
              "\n",
              "    .colab-df-convert {\n",
              "      background-color: #E8F0FE;\n",
              "      border: none;\n",
              "      border-radius: 50%;\n",
              "      cursor: pointer;\n",
              "      display: none;\n",
              "      fill: #1967D2;\n",
              "      height: 32px;\n",
              "      padding: 0 0 0 0;\n",
              "      width: 32px;\n",
              "    }\n",
              "\n",
              "    .colab-df-convert:hover {\n",
              "      background-color: #E2EBFA;\n",
              "      box-shadow: 0px 1px 2px rgba(60, 64, 67, 0.3), 0px 1px 3px 1px rgba(60, 64, 67, 0.15);\n",
              "      fill: #174EA6;\n",
              "    }\n",
              "\n",
              "    [theme=dark] .colab-df-convert {\n",
              "      background-color: #3B4455;\n",
              "      fill: #D2E3FC;\n",
              "    }\n",
              "\n",
              "    [theme=dark] .colab-df-convert:hover {\n",
              "      background-color: #434B5C;\n",
              "      box-shadow: 0px 1px 3px 1px rgba(0, 0, 0, 0.15);\n",
              "      filter: drop-shadow(0px 1px 2px rgba(0, 0, 0, 0.3));\n",
              "      fill: #FFFFFF;\n",
              "    }\n",
              "  </style>\n",
              "\n",
              "      <script>\n",
              "        const buttonEl =\n",
              "          document.querySelector('#df-d85ac894-5f72-46fe-8439-56a809152f33 button.colab-df-convert');\n",
              "        buttonEl.style.display =\n",
              "          google.colab.kernel.accessAllowed ? 'block' : 'none';\n",
              "\n",
              "        async function convertToInteractive(key) {\n",
              "          const element = document.querySelector('#df-d85ac894-5f72-46fe-8439-56a809152f33');\n",
              "          const dataTable =\n",
              "            await google.colab.kernel.invokeFunction('convertToInteractive',\n",
              "                                                     [key], {});\n",
              "          if (!dataTable) return;\n",
              "\n",
              "          const docLinkHtml = 'Like what you see? Visit the ' +\n",
              "            '<a target=\"_blank\" href=https://colab.research.google.com/notebooks/data_table.ipynb>data table notebook</a>'\n",
              "            + ' to learn more about interactive tables.';\n",
              "          element.innerHTML = '';\n",
              "          dataTable['output_type'] = 'display_data';\n",
              "          await google.colab.output.renderOutput(dataTable, element);\n",
              "          const docLink = document.createElement('div');\n",
              "          docLink.innerHTML = docLinkHtml;\n",
              "          element.appendChild(docLink);\n",
              "        }\n",
              "      </script>\n",
              "    </div>\n",
              "  </div>\n",
              "  "
            ],
            "text/plain": [
              "           X         T         Y\n",
              "0   0.534263  0.260569  0.000540\n",
              "1   0.263968  0.249165  0.000028\n",
              "2   0.386837  0.251142  0.000085\n",
              "3   0.350574  0.250173  0.000057\n",
              "4   0.673522  0.281381  0.002728\n",
              "..       ...       ...       ...\n",
              "95  0.423019  0.252553  0.000132\n",
              "96  0.497060  0.257181  0.000337\n",
              "97  0.430913  0.252929  0.000145\n",
              "98  0.843581  0.329592  0.013870\n",
              "99  0.610401  0.270197  0.001352\n",
              "\n",
              "[100 rows x 3 columns]"
            ]
          },
          "execution_count": 17,
          "metadata": {},
          "output_type": "execute_result"
        }
      ],
      "source": [
        "[X,T,Y]=generate_samples(100,'cube','carre', 'gaussian',1,1.0,2.0,1.0,1.0,43)\n",
        "df_mediator=pd.DataFrame({'X':X[:,0],'T':T[:,0],'Y':Y[:,0]})\n",
        "df_mediator"
      ]
    },
    {
      "cell_type": "markdown",
      "metadata": {
        "id": "7-cFWjyBeqFb"
      },
      "source": [
        "Simulation of a hard intervention"
      ]
    },
    {
      "cell_type": "code",
      "execution_count": 19,
      "metadata": {
        "id": "Ay_CZN3retYt"
      },
      "outputs": [],
      "source": [
        "def generate_samples_intervene(size,fixed_function1,fixed_function2, value_t,dist_x,dx,a1,a2,b2,nstd,seed = None,normalize=True):\n",
        "    '''Generate independent post-nonlinear samples\n",
        "    Arguments:\n",
        "        size : number of samples\n",
        "        f1, f2 to be within {x,x^2,x^3,tanh x, e^{-|x|}, cos x}\n",
        "    Output:\n",
        "        Samples T, M,Y\n",
        "    '''\n",
        "    print(seed)\n",
        "    if seed == None:\n",
        "        np.random.seed()\n",
        "    else:\n",
        "        np.random.seed(seed)\n",
        "\n",
        "    if fixed_function1 == 'linear':\n",
        "      f1 = same\n",
        "    elif fixed_function1=='carre':\n",
        "      f1 = np.square\n",
        "    elif fixed_function1=='cube':\n",
        "      f1 = cube\n",
        "    elif fixed_function1=='negexp':\n",
        "      f1 = negexp\n",
        "    else:\n",
        "      f1 = np.cos\n",
        "\n",
        "    if fixed_function2 == 'linear':\n",
        "      f2= same\n",
        "    elif fixed_function2=='carre':\n",
        "      f2 = np.square\n",
        "    elif fixed_function2=='cube':\n",
        "      f2 = cube\n",
        "    elif fixed_function2=='negexp':\n",
        "      f2 = negexp\n",
        "    else:\n",
        "      f2 = np.cos\n",
        "    \n",
        "    if dist_x =='gaussian':\n",
        "        cov = np.eye(dx)\n",
        "        mu = np.ones(dx)\n",
        "        X = np.random.multivariate_normal(mu, cov, size)\n",
        "\n",
        "    elif dist_x == 'laplace':\n",
        "        X = np.random.laplace(loc=0.0, scale=1.0, size=size*dx)\n",
        "        if (dx!=1):\n",
        "          X = np.reshape(X,(size,dx))\n",
        "\n",
        "\n",
        "    Y = f2(np.dot(a2,value_t)+b2*X+nstd * np.random.normal(0, 1, size))\n",
        "\n",
        "    if normalize == True:\n",
        "        X = (X - X.min()) / (X.max() - X.min())\n",
        "        T =value_t*np.ones((len(X),1))\n",
        "        Y = (Y - Y.min()) / (Y.max() - Y.min())\n",
        "\n",
        "    return [X,T,Y]"
      ]
    },
    {
      "cell_type": "markdown",
      "metadata": {
        "id": "Cp5iYZ5ze0j6"
      },
      "source": [
        "We intervene on $T$ setting $T:=3$"
      ]
    },
    {
      "cell_type": "code",
      "execution_count": 20,
      "metadata": {
        "colab": {
          "base_uri": "https://localhost:8080/",
          "height": 441
        },
        "id": "SM9y-L2se40K",
        "outputId": "4afd0d90-f8b4-4ac3-fcf9-47a33a34e474"
      },
      "outputs": [
        {
          "name": "stdout",
          "output_type": "stream",
          "text": [
            "43\n"
          ]
        },
        {
          "data": {
            "text/html": [
              "\n",
              "  <div id=\"df-2b4f5b57-de93-4355-8787-d7a2880bda12\">\n",
              "    <div class=\"colab-df-container\">\n",
              "      <div>\n",
              "<style scoped>\n",
              "    .dataframe tbody tr th:only-of-type {\n",
              "        vertical-align: middle;\n",
              "    }\n",
              "\n",
              "    .dataframe tbody tr th {\n",
              "        vertical-align: top;\n",
              "    }\n",
              "\n",
              "    .dataframe thead th {\n",
              "        text-align: right;\n",
              "    }\n",
              "</style>\n",
              "<table border=\"1\" class=\"dataframe\">\n",
              "  <thead>\n",
              "    <tr style=\"text-align: right;\">\n",
              "      <th></th>\n",
              "      <th>X</th>\n",
              "      <th>T</th>\n",
              "      <th>Y</th>\n",
              "    </tr>\n",
              "  </thead>\n",
              "  <tbody>\n",
              "    <tr>\n",
              "      <th>0</th>\n",
              "      <td>0.534263</td>\n",
              "      <td>3.0</td>\n",
              "      <td>0.377819</td>\n",
              "    </tr>\n",
              "    <tr>\n",
              "      <th>1</th>\n",
              "      <td>0.263968</td>\n",
              "      <td>3.0</td>\n",
              "      <td>0.261186</td>\n",
              "    </tr>\n",
              "    <tr>\n",
              "      <th>2</th>\n",
              "      <td>0.386837</td>\n",
              "      <td>3.0</td>\n",
              "      <td>0.311753</td>\n",
              "    </tr>\n",
              "    <tr>\n",
              "      <th>3</th>\n",
              "      <td>0.350574</td>\n",
              "      <td>3.0</td>\n",
              "      <td>0.296404</td>\n",
              "    </tr>\n",
              "    <tr>\n",
              "      <th>4</th>\n",
              "      <td>0.673522</td>\n",
              "      <td>3.0</td>\n",
              "      <td>0.445627</td>\n",
              "    </tr>\n",
              "    <tr>\n",
              "      <th>...</th>\n",
              "      <td>...</td>\n",
              "      <td>...</td>\n",
              "      <td>...</td>\n",
              "    </tr>\n",
              "    <tr>\n",
              "      <th>95</th>\n",
              "      <td>0.423019</td>\n",
              "      <td>3.0</td>\n",
              "      <td>0.327423</td>\n",
              "    </tr>\n",
              "    <tr>\n",
              "      <th>96</th>\n",
              "      <td>0.497060</td>\n",
              "      <td>3.0</td>\n",
              "      <td>0.360593</td>\n",
              "    </tr>\n",
              "    <tr>\n",
              "      <th>97</th>\n",
              "      <td>0.430913</td>\n",
              "      <td>3.0</td>\n",
              "      <td>0.330889</td>\n",
              "    </tr>\n",
              "    <tr>\n",
              "      <th>98</th>\n",
              "      <td>0.843581</td>\n",
              "      <td>3.0</td>\n",
              "      <td>0.535549</td>\n",
              "    </tr>\n",
              "    <tr>\n",
              "      <th>99</th>\n",
              "      <td>0.610401</td>\n",
              "      <td>3.0</td>\n",
              "      <td>0.414242</td>\n",
              "    </tr>\n",
              "  </tbody>\n",
              "</table>\n",
              "<p>100 rows × 3 columns</p>\n",
              "</div>\n",
              "      <button class=\"colab-df-convert\" onclick=\"convertToInteractive('df-2b4f5b57-de93-4355-8787-d7a2880bda12')\"\n",
              "              title=\"Convert this dataframe to an interactive table.\"\n",
              "              style=\"display:none;\">\n",
              "        \n",
              "  <svg xmlns=\"http://www.w3.org/2000/svg\" height=\"24px\"viewBox=\"0 0 24 24\"\n",
              "       width=\"24px\">\n",
              "    <path d=\"M0 0h24v24H0V0z\" fill=\"none\"/>\n",
              "    <path d=\"M18.56 5.44l.94 2.06.94-2.06 2.06-.94-2.06-.94-.94-2.06-.94 2.06-2.06.94zm-11 1L8.5 8.5l.94-2.06 2.06-.94-2.06-.94L8.5 2.5l-.94 2.06-2.06.94zm10 10l.94 2.06.94-2.06 2.06-.94-2.06-.94-.94-2.06-.94 2.06-2.06.94z\"/><path d=\"M17.41 7.96l-1.37-1.37c-.4-.4-.92-.59-1.43-.59-.52 0-1.04.2-1.43.59L10.3 9.45l-7.72 7.72c-.78.78-.78 2.05 0 2.83L4 21.41c.39.39.9.59 1.41.59.51 0 1.02-.2 1.41-.59l7.78-7.78 2.81-2.81c.8-.78.8-2.07 0-2.86zM5.41 20L4 18.59l7.72-7.72 1.47 1.35L5.41 20z\"/>\n",
              "  </svg>\n",
              "      </button>\n",
              "      \n",
              "  <style>\n",
              "    .colab-df-container {\n",
              "      display:flex;\n",
              "      flex-wrap:wrap;\n",
              "      gap: 12px;\n",
              "    }\n",
              "\n",
              "    .colab-df-convert {\n",
              "      background-color: #E8F0FE;\n",
              "      border: none;\n",
              "      border-radius: 50%;\n",
              "      cursor: pointer;\n",
              "      display: none;\n",
              "      fill: #1967D2;\n",
              "      height: 32px;\n",
              "      padding: 0 0 0 0;\n",
              "      width: 32px;\n",
              "    }\n",
              "\n",
              "    .colab-df-convert:hover {\n",
              "      background-color: #E2EBFA;\n",
              "      box-shadow: 0px 1px 2px rgba(60, 64, 67, 0.3), 0px 1px 3px 1px rgba(60, 64, 67, 0.15);\n",
              "      fill: #174EA6;\n",
              "    }\n",
              "\n",
              "    [theme=dark] .colab-df-convert {\n",
              "      background-color: #3B4455;\n",
              "      fill: #D2E3FC;\n",
              "    }\n",
              "\n",
              "    [theme=dark] .colab-df-convert:hover {\n",
              "      background-color: #434B5C;\n",
              "      box-shadow: 0px 1px 3px 1px rgba(0, 0, 0, 0.15);\n",
              "      filter: drop-shadow(0px 1px 2px rgba(0, 0, 0, 0.3));\n",
              "      fill: #FFFFFF;\n",
              "    }\n",
              "  </style>\n",
              "\n",
              "      <script>\n",
              "        const buttonEl =\n",
              "          document.querySelector('#df-2b4f5b57-de93-4355-8787-d7a2880bda12 button.colab-df-convert');\n",
              "        buttonEl.style.display =\n",
              "          google.colab.kernel.accessAllowed ? 'block' : 'none';\n",
              "\n",
              "        async function convertToInteractive(key) {\n",
              "          const element = document.querySelector('#df-2b4f5b57-de93-4355-8787-d7a2880bda12');\n",
              "          const dataTable =\n",
              "            await google.colab.kernel.invokeFunction('convertToInteractive',\n",
              "                                                     [key], {});\n",
              "          if (!dataTable) return;\n",
              "\n",
              "          const docLinkHtml = 'Like what you see? Visit the ' +\n",
              "            '<a target=\"_blank\" href=https://colab.research.google.com/notebooks/data_table.ipynb>data table notebook</a>'\n",
              "            + ' to learn more about interactive tables.';\n",
              "          element.innerHTML = '';\n",
              "          dataTable['output_type'] = 'display_data';\n",
              "          await google.colab.output.renderOutput(dataTable, element);\n",
              "          const docLink = document.createElement('div');\n",
              "          docLink.innerHTML = docLinkHtml;\n",
              "          element.appendChild(docLink);\n",
              "        }\n",
              "      </script>\n",
              "    </div>\n",
              "  </div>\n",
              "  "
            ],
            "text/plain": [
              "           X    T         Y\n",
              "0   0.534263  3.0  0.377819\n",
              "1   0.263968  3.0  0.261186\n",
              "2   0.386837  3.0  0.311753\n",
              "3   0.350574  3.0  0.296404\n",
              "4   0.673522  3.0  0.445627\n",
              "..       ...  ...       ...\n",
              "95  0.423019  3.0  0.327423\n",
              "96  0.497060  3.0  0.360593\n",
              "97  0.430913  3.0  0.330889\n",
              "98  0.843581  3.0  0.535549\n",
              "99  0.610401  3.0  0.414242\n",
              "\n",
              "[100 rows x 3 columns]"
            ]
          },
          "execution_count": 20,
          "metadata": {},
          "output_type": "execute_result"
        }
      ],
      "source": [
        "[X,T,Y]=generate_samples_intervene(100,'cube','carre', 3.0,'gaussian',1,1,2,1,1,43)\n",
        "df_intervene=pd.DataFrame({'X':X[:,0],'T':T[:,0],'Y':Y[:,0]})\n",
        "df_intervene"
      ]
    },
    {
      "cell_type": "markdown",
      "metadata": {
        "id": "O6bDsMYPfA4c"
      },
      "source": [
        "### **Counterfactuals**"
      ]
    },
    {
      "cell_type": "markdown",
      "metadata": {
        "id": "If5crwg-fAGi"
      },
      "source": [
        "We assume now that we have observed $(X,T,Y)=(1,-1,1)$ with $f_1=f_2:=t\\mapsto t$, $a_1=a_2=b_2=1$."
      ]
    },
    {
      "cell_type": "markdown",
      "metadata": {
        "id": "3bqFdTwSfGjk"
      },
      "source": [
        "What are the value of the two noises $\\varepsilon_1,\\varepsilon_2$?"
      ]
    },
    {
      "cell_type": "markdown",
      "metadata": {
        "id": "LY4x-TBzfLft"
      },
      "source": [
        "What would have happen if $T:=2$?"
      ]
    },
    {
      "cell_type": "markdown",
      "metadata": {
        "id": "Bj2eA4jM83xa"
      },
      "source": [
        "###**Estimation of the effects on a complex example**"
      ]
    },
    {
      "cell_type": "markdown",
      "metadata": {
        "id": "cWjx3yq5IjAT"
      },
      "source": [
        "### **Example** 1"
      ]
    },
    {
      "cell_type": "code",
      "execution_count": 21,
      "metadata": {
        "colab": {
          "base_uri": "https://localhost:8080/",
          "height": 464
        },
        "id": "fNhqwrOCfOg2",
        "outputId": "1a697f29-42bd-4879-8ec2-37fd40792455"
      },
      "outputs": [
        {
          "data": {
            "image/svg+xml": "<?xml version=\"1.0\" encoding=\"UTF-8\" standalone=\"no\"?>\n<!DOCTYPE svg PUBLIC \"-//W3C//DTD SVG 1.1//EN\"\n \"http://www.w3.org/Graphics/SVG/1.1/DTD/svg11.dtd\">\n<!-- Generated by graphviz version 2.43.0 (0)\n -->\n<!-- Title: %3 Pages: 1 -->\n<svg width=\"189pt\" height=\"332pt\"\n viewBox=\"0.00 0.00 189.00 332.00\" xmlns=\"http://www.w3.org/2000/svg\" xmlns:xlink=\"http://www.w3.org/1999/xlink\">\n<g id=\"graph0\" class=\"graph\" transform=\"scale(1 1) rotate(0) translate(4 328)\">\n<title>%3</title>\n<polygon fill=\"white\" stroke=\"transparent\" points=\"-4,4 -4,-328 185,-328 185,4 -4,4\"/>\n<!-- A -->\n<g id=\"node1\" class=\"node\">\n<title>A</title>\n<ellipse fill=\"none\" stroke=\"black\" cx=\"27\" cy=\"-306\" rx=\"27\" ry=\"18\"/>\n<text text-anchor=\"middle\" x=\"27\" y=\"-302.3\" font-family=\"Times,serif\" font-size=\"14.00\">A</text>\n</g>\n<!-- K -->\n<g id=\"node2\" class=\"node\">\n<title>K</title>\n<ellipse fill=\"none\" stroke=\"black\" cx=\"27\" cy=\"-234\" rx=\"27\" ry=\"18\"/>\n<text text-anchor=\"middle\" x=\"27\" y=\"-230.3\" font-family=\"Times,serif\" font-size=\"14.00\">K</text>\n</g>\n<!-- A&#45;&gt;K -->\n<g id=\"edge1\" class=\"edge\">\n<title>A&#45;&gt;K</title>\n<path fill=\"none\" stroke=\"black\" d=\"M27,-287.7C27,-279.98 27,-270.71 27,-262.11\"/>\n<polygon fill=\"black\" stroke=\"black\" points=\"30.5,-262.1 27,-252.1 23.5,-262.1 30.5,-262.1\"/>\n</g>\n<!-- X -->\n<g id=\"node4\" class=\"node\">\n<title>X</title>\n<ellipse fill=\"none\" stroke=\"black\" cx=\"99\" cy=\"-234\" rx=\"27\" ry=\"18\"/>\n<text text-anchor=\"middle\" x=\"99\" y=\"-230.3\" font-family=\"Times,serif\" font-size=\"14.00\">X</text>\n</g>\n<!-- A&#45;&gt;X -->\n<g id=\"edge3\" class=\"edge\">\n<title>A&#45;&gt;X</title>\n<path fill=\"none\" stroke=\"black\" d=\"M41.57,-290.83C51.75,-280.94 65.52,-267.55 77.03,-256.36\"/>\n<polygon fill=\"black\" stroke=\"black\" points=\"79.47,-258.87 84.2,-249.38 74.59,-253.85 79.47,-258.87\"/>\n</g>\n<!-- Y -->\n<g id=\"node8\" class=\"node\">\n<title>Y</title>\n<ellipse fill=\"none\" stroke=\"black\" cx=\"55\" cy=\"-90\" rx=\"27\" ry=\"18\"/>\n<text text-anchor=\"middle\" x=\"55\" y=\"-86.3\" font-family=\"Times,serif\" font-size=\"14.00\">Y</text>\n</g>\n<!-- K&#45;&gt;Y -->\n<g id=\"edge7\" class=\"edge\">\n<title>K&#45;&gt;Y</title>\n<path fill=\"none\" stroke=\"black\" d=\"M30.38,-215.87C35.17,-191.56 43.99,-146.82 49.67,-118.01\"/>\n<polygon fill=\"black\" stroke=\"black\" points=\"53.11,-118.68 51.61,-108.19 46.24,-117.32 53.11,-118.68\"/>\n</g>\n<!-- C -->\n<g id=\"node3\" class=\"node\">\n<title>C</title>\n<ellipse fill=\"none\" stroke=\"black\" cx=\"99\" cy=\"-306\" rx=\"27\" ry=\"18\"/>\n<text text-anchor=\"middle\" x=\"99\" y=\"-302.3\" font-family=\"Times,serif\" font-size=\"14.00\">C</text>\n</g>\n<!-- C&#45;&gt;X -->\n<g id=\"edge2\" class=\"edge\">\n<title>C&#45;&gt;X</title>\n<path fill=\"none\" stroke=\"black\" d=\"M99,-287.7C99,-279.98 99,-270.71 99,-262.11\"/>\n<polygon fill=\"black\" stroke=\"black\" points=\"102.5,-262.1 99,-252.1 95.5,-262.1 102.5,-262.1\"/>\n</g>\n<!-- F -->\n<g id=\"node5\" class=\"node\">\n<title>F</title>\n<ellipse fill=\"none\" stroke=\"black\" cx=\"82\" cy=\"-162\" rx=\"27\" ry=\"18\"/>\n<text text-anchor=\"middle\" x=\"82\" y=\"-158.3\" font-family=\"Times,serif\" font-size=\"14.00\">F</text>\n</g>\n<!-- X&#45;&gt;F -->\n<g id=\"edge4\" class=\"edge\">\n<title>X&#45;&gt;F</title>\n<path fill=\"none\" stroke=\"black\" d=\"M94.88,-216.05C92.99,-208.26 90.7,-198.82 88.58,-190.08\"/>\n<polygon fill=\"black\" stroke=\"black\" points=\"91.96,-189.17 86.2,-180.28 85.15,-190.82 91.96,-189.17\"/>\n</g>\n<!-- D -->\n<g id=\"node6\" class=\"node\">\n<title>D</title>\n<ellipse fill=\"none\" stroke=\"black\" cx=\"154\" cy=\"-162\" rx=\"27\" ry=\"18\"/>\n<text text-anchor=\"middle\" x=\"154\" y=\"-158.3\" font-family=\"Times,serif\" font-size=\"14.00\">D</text>\n</g>\n<!-- X&#45;&gt;D -->\n<g id=\"edge5\" class=\"edge\">\n<title>X&#45;&gt;D</title>\n<path fill=\"none\" stroke=\"black\" d=\"M110.93,-217.81C118.21,-208.55 127.66,-196.52 135.85,-186.09\"/>\n<polygon fill=\"black\" stroke=\"black\" points=\"138.66,-188.18 142.09,-178.16 133.16,-183.86 138.66,-188.18\"/>\n</g>\n<!-- G -->\n<g id=\"node7\" class=\"node\">\n<title>G</title>\n<ellipse fill=\"none\" stroke=\"black\" cx=\"154\" cy=\"-90\" rx=\"27\" ry=\"18\"/>\n<text text-anchor=\"middle\" x=\"154\" y=\"-86.3\" font-family=\"Times,serif\" font-size=\"14.00\">G</text>\n</g>\n<!-- D&#45;&gt;G -->\n<g id=\"edge6\" class=\"edge\">\n<title>D&#45;&gt;G</title>\n<path fill=\"none\" stroke=\"black\" d=\"M154,-143.7C154,-135.98 154,-126.71 154,-118.11\"/>\n<polygon fill=\"black\" stroke=\"black\" points=\"157.5,-118.1 154,-108.1 150.5,-118.1 157.5,-118.1\"/>\n</g>\n<!-- D&#45;&gt;Y -->\n<g id=\"edge8\" class=\"edge\">\n<title>D&#45;&gt;Y</title>\n<path fill=\"none\" stroke=\"black\" d=\"M135.84,-148.16C120.63,-137.41 98.71,-121.91 81.53,-109.76\"/>\n<polygon fill=\"black\" stroke=\"black\" points=\"83.23,-106.67 73.04,-103.76 79.19,-112.39 83.23,-106.67\"/>\n</g>\n<!-- H -->\n<g id=\"node9\" class=\"node\">\n<title>H</title>\n<ellipse fill=\"none\" stroke=\"black\" cx=\"55\" cy=\"-18\" rx=\"27\" ry=\"18\"/>\n<text text-anchor=\"middle\" x=\"55\" y=\"-14.3\" font-family=\"Times,serif\" font-size=\"14.00\">H</text>\n</g>\n<!-- Y&#45;&gt;H -->\n<g id=\"edge9\" class=\"edge\">\n<title>Y&#45;&gt;H</title>\n<path fill=\"none\" stroke=\"black\" d=\"M55,-71.7C55,-63.98 55,-54.71 55,-46.11\"/>\n<polygon fill=\"black\" stroke=\"black\" points=\"58.5,-46.1 55,-36.1 51.5,-46.1 58.5,-46.1\"/>\n</g>\n</g>\n</svg>\n",
            "text/plain": [
              "<graphviz.dot.Digraph at 0x7f3be14a8700>"
            ]
          },
          "execution_count": 21,
          "metadata": {},
          "output_type": "execute_result"
        }
      ],
      "source": [
        "g = gr.Digraph()\n",
        "g.edge(\"A\", \"K\"), g.edge(\"C\", \"X\"), g.edge(\"A\", \"X\"),g.edge(\"X\",\"F\"), g.edge(\"X\",\"D\"),g.edge(\"D\",\"G\"),g.edge(\"K\",\"Y\"),g.edge(\"D\",\"Y\"),g.edge(\"Y\",\"H\")\n",
        "g"
      ]
    },
    {
      "cell_type": "markdown",
      "metadata": {
        "id": "5cBjDi9vgC0W"
      },
      "source": [
        "We associate a LinGAM to this graph "
      ]
    },
    {
      "cell_type": "code",
      "execution_count": 34,
      "metadata": {
        "id": "-cIFwiuUN3aI"
      },
      "outputs": [],
      "source": [
        "N = 200\n",
        "\n",
        "###############################################################\n",
        "######## EITHER RUN: ########\n",
        "low_corr = 0\n",
        "C = np.random.randn(N,1)   # exogenous cause of X\n",
        "A = 0.8 * np.random.randn(N,1)  # backdoor adjustment variable (also cause of X)\n",
        "K = A + 0.1 * np.random.randn(N,1)  # backdoor adjustment variable (cause of A and Y)\n",
        "X = C - 2*A + 0.2 * np.random.randn(N,1)  # treatment variable\n",
        "F = 3*X + 0.8 * np.random.randn(N,1)  # descendent of treatment variable\n",
        "D = -2*X + 0.5 * np.random.randn(N,1)  # mediator between x and y\n",
        "G = D + 0.5 * np.random.randn(N,1)  # descendent of mediator\n",
        "Y = 2*K - D + 0.2 * np.random.randn(N,1)  # outcome variable \n",
        "H = 0.5*Y + 0.1 * np.random.randn(N,1)  # effect of Y\n",
        "\n",
        "feature_names = ['C', 'A', 'K', 'X', 'F', 'D', 'G', 'H']"
      ]
    },
    {
      "cell_type": "markdown",
      "metadata": {
        "id": "69tUNLPZMOM4"
      },
      "source": [
        "### Investigate $X\\rightarrow Y$ using classical importance measures. Start by looking at the result with ALL variables "
      ]
    },
    {
      "cell_type": "code",
      "execution_count": 35,
      "metadata": {
        "colab": {
          "base_uri": "https://localhost:8080/",
          "height": 327,
          "referenced_widgets": [
            "2869f85297cf4a67a2fc378de4e06a11",
            "e7396b9c48a74a11a7286fefbf128cd5",
            "af0d0950db844d758017b272b2eb97d2",
            "0b66e9f40a524262a6ba6b6bd2af119c",
            "b40d7b481e164f2e8dec033ab96503b8",
            "1cdab72f7ae84f30bb1ee2484b970078",
            "8849e630aeb94a22b7600bf6512542c4",
            "de73ff7fd04848f1be74d74cd8f295e3",
            "15fc155447e743e98b3b8a5ac53baeea",
            "aed5bc738f474e408ffb4e134e36c129",
            "0983389dad0840bdbc29b94aca649b88"
          ]
        },
        "id": "ZUKRptCoMVkT",
        "outputId": "69b1b231-b742-4c14-cbb3-4c34d4c0d8ac"
      },
      "outputs": [
        {
          "name": "stdout",
          "output_type": "stream",
          "text": [
            "------------LR (always unstandardizd)---------------\n",
            "MSE 0.02337809729280256\n",
            "------------RF---------------\n",
            "MSE 0.13683769358426737\n",
            "------------NN---------------\n"
          ]
        },
        {
          "name": "stderr",
          "output_type": "stream",
          "text": [
            "Stochastic Optimizer: Maximum iterations (200) reached and the optimization hasn't converged yet.\n",
            "WARNING:shap:Using 120 background data samples could cause slower run times. Consider using shap.sample(data, K) or shap.kmeans(data, K) to summarize the background as K samples.\n"
          ]
        },
        {
          "data": {
            "application/vnd.jupyter.widget-view+json": {
              "model_id": "2869f85297cf4a67a2fc378de4e06a11",
              "version_major": 2,
              "version_minor": 0
            },
            "text/plain": [
              "  0%|          | 0/80 [00:00<?, ?it/s]"
            ]
          },
          "metadata": {},
          "output_type": "display_data"
        },
        {
          "name": "stdout",
          "output_type": "stream",
          "text": [
            "MSE 0.12846029190298772\n",
            "C 0.7498153437579995\n",
            "A 0.6019613677053702\n",
            "K 0.5927080657107614\n",
            "X 0.9168188349071246\n",
            "F 0.9029963533325801\n",
            "D 0.9352800306157703\n",
            "G 0.9280202710685885\n",
            "H 0.9972101572259061\n"
          ]
        }
      ],
      "source": [
        "predictors = np.concatenate((C, A, K, X, F, D, G, H),1)\n",
        "outcome =  Y[:,0]\n",
        "\n",
        "# biv_covs,biv_corrs, rf_importances, rf_shap_vals, nn_shap_vals, lr_coefs = get_importances(predictors, outcome, feature_names)\n",
        "# plot_results(biv_corrs, rf_importances, rf_shap_vals, nn_shap_vals, lr_coefs, feature_names, graph_name='all_preds.png')\n",
        "\n",
        "biv_covs_a,biv_corrs_a, rf_importances_a, rf_shap_vals_a, nn_shap_vals_a, lr_coefs_a = get_importances(predictors, outcome, feature_names, standardize=True)\n",
        "\n",
        "for i, corr in enumerate(biv_corrs_a):\n",
        "    print(feature_names[i], corr)"
      ]
    },
    {
      "cell_type": "code",
      "execution_count": 29,
      "metadata": {
        "colab": {
          "base_uri": "https://localhost:8080/",
          "height": 390
        },
        "id": "393TfRO5MsVm",
        "outputId": "084ec658-0c56-4fba-b03d-44e8737571fb"
      },
      "outputs": [
        {
          "data": {
            "image/png": "[encoded data removed]",
            "text/plain": [
              "<Figure size 720x432 with 1 Axes>"
            ]
          },
          "metadata": {
            "needs_background": "light"
          },
          "output_type": "display_data"
        }
      ],
      "source": [
        "gn = 'all_preds_std.png' if not low_corr else 'all_preds_std_low_corr.png'\n",
        "plot_results(biv_corrs_a, rf_importances_a, rf_shap_vals_a, nn_shap_vals_a, lr_coefs_a, feature_names, graph_name=gn)"
      ]
    },
    {
      "cell_type": "markdown",
      "metadata": {
        "id": "uN3dJP_AMq1a"
      },
      "source": [
        "##Let's remove the effect of Y, which is 'H'\n"
      ]
    },
    {
      "cell_type": "code",
      "execution_count": 36,
      "metadata": {
        "colab": {
          "base_uri": "https://localhost:8080/",
          "height": 561,
          "referenced_widgets": [
            "86589711e259458a95b9c604e3941fd6",
            "3d34eef41391491e9488615d6c5c3532",
            "44aaa585760a4c6b8a9f735d2bc07300",
            "e21c43e697b24f509c89323ee4c82b1f",
            "f00fe2b8637e434fafd56207a8205bf0",
            "b13f860167dd4a7aacb4ab39ab8c80b9",
            "5feb7efd5ee04fb78e74616b2fdd4a01",
            "767fcd41560743ec8686aa3b46828474",
            "5d915681f3a14bec8fd676ca269d0c00",
            "e905b979de804575b7b08d421ddbdd74",
            "33a53dd095454a53b9578aea9e121ebd"
          ]
        },
        "id": "3E_l7X94M19l",
        "outputId": "2714c248-0c97-4ac0-c949-b621df28a525"
      },
      "outputs": [
        {
          "name": "stdout",
          "output_type": "stream",
          "text": [
            "------------LR (always unstandardizd)---------------\n",
            "MSE 0.04027988261571567\n",
            "------------RF---------------\n",
            "MSE 0.4491305656602008\n",
            "------------NN---------------\n"
          ]
        },
        {
          "name": "stderr",
          "output_type": "stream",
          "text": [
            "Stochastic Optimizer: Maximum iterations (200) reached and the optimization hasn't converged yet.\n",
            "WARNING:shap:Using 120 background data samples could cause slower run times. Consider using shap.sample(data, K) or shap.kmeans(data, K) to summarize the background as K samples.\n"
          ]
        },
        {
          "data": {
            "application/vnd.jupyter.widget-view+json": {
              "model_id": "86589711e259458a95b9c604e3941fd6",
              "version_major": 2,
              "version_minor": 0
            },
            "text/plain": [
              "  0%|          | 0/80 [00:00<?, ?it/s]"
            ]
          },
          "metadata": {},
          "output_type": "display_data"
        },
        {
          "name": "stdout",
          "output_type": "stream",
          "text": [
            "MSE 0.1976701923468211\n"
          ]
        },
        {
          "data": {
            "image/png": "[encoded data removed]",
            "text/plain": [
              "<Figure size 720x432 with 1 Axes>"
            ]
          },
          "metadata": {
            "needs_background": "light"
          },
          "output_type": "display_data"
        }
      ],
      "source": [
        "# remove effect of y\n",
        "predictors = np.concatenate((C, A, K, X, F, D, G),1)\n",
        "outcome =  Y[:,0]\n",
        "feature_names_b = ['C', 'A', 'K', 'X', 'F', 'D', 'G']\n",
        "\n",
        "# biv_covs,biv_corrs, rf_importances, rf_shap_vals, nn_shap_vals, lr_coefs = get_importances(predictors, outcome, feature_names)\n",
        "# plot_results(biv_corrs, rf_importances, rf_shap_vals, nn_shap_vals, lr_coefs, feature_names, graph_name='no_H.png')\n",
        "gn = 'no_H_std.png' if not low_corr else 'no_H_std_low_corr.png'\n",
        "biv_covs_b,biv_corrs_b, rf_importances_b, rf_shap_vals_b, nn_shap_vals_b, lr_coefs_b = get_importances(predictors, outcome, feature_names_b, standardize=True)\n",
        "plot_results(biv_corrs_b, rf_importances_b, rf_shap_vals_b, nn_shap_vals_b, lr_coefs_b, feature_names_b, graph_name=gn)"
      ]
    },
    {
      "cell_type": "markdown",
      "metadata": {
        "id": "iB8BLK3fNCG2"
      },
      "source": [
        "##Now let's remove the mediator 'D'. Surely now we will see 'X' linked with 'Y'?"
      ]
    },
    {
      "cell_type": "code",
      "execution_count": 37,
      "metadata": {
        "colab": {
          "base_uri": "https://localhost:8080/",
          "height": 561,
          "referenced_widgets": [
            "b5c5e396b2b24b509cba0d9403e4000c",
            "ed607aa355434e9690e6b9a4b29bdb88",
            "08a163c1467846e6b8b29f259a3dc10d",
            "5659ff12b1c44109a4a2d855dc528943",
            "28de9fffc01147c38950c16d281a3925",
            "1c6a8bc3d6304e1c96fe8c151067aa6b",
            "d871956fad60447abbc758ff6ced580a",
            "89181934e9db4878aea92e41e50eac5e",
            "16eed3629ce748cbaad86704fb465fa4",
            "96804858790a465a90f712bf441c417b",
            "50f37e4eccab48fa8b212ca04e55a3a5"
          ]
        },
        "id": "jUCd1SvJNFqm",
        "outputId": "2a308ae9-a41b-4587-bf36-77e4d21dbaad"
      },
      "outputs": [
        {
          "name": "stdout",
          "output_type": "stream",
          "text": [
            "------------LR (always unstandardizd)---------------\n",
            "MSE 0.15728017169340608\n",
            "------------RF---------------\n",
            "MSE 0.49775281458470355\n",
            "------------NN---------------\n"
          ]
        },
        {
          "name": "stderr",
          "output_type": "stream",
          "text": [
            "Stochastic Optimizer: Maximum iterations (200) reached and the optimization hasn't converged yet.\n",
            "WARNING:shap:Using 120 background data samples could cause slower run times. Consider using shap.sample(data, K) or shap.kmeans(data, K) to summarize the background as K samples.\n"
          ]
        },
        {
          "data": {
            "application/vnd.jupyter.widget-view+json": {
              "model_id": "b5c5e396b2b24b509cba0d9403e4000c",
              "version_major": 2,
              "version_minor": 0
            },
            "text/plain": [
              "  0%|          | 0/80 [00:00<?, ?it/s]"
            ]
          },
          "metadata": {},
          "output_type": "display_data"
        },
        {
          "name": "stdout",
          "output_type": "stream",
          "text": [
            "MSE 0.27825702360670385\n"
          ]
        },
        {
          "data": {
            "image/png": "[encoded data removed]",
            "text/plain": [
              "<Figure size 720x432 with 1 Axes>"
            ]
          },
          "metadata": {
            "needs_background": "light"
          },
          "output_type": "display_data"
        }
      ],
      "source": [
        "# remove mediator\n",
        "predictors = np.concatenate((C, A, K, X, F, G),1)\n",
        "outcome =  Y[:,0]\n",
        "feature_names_c = ['C', 'A', 'K', 'X', 'F', 'G']\n",
        "\n",
        "# biv_covs,biv_corrs, rf_importances, rf_shap_vals, nn_shap_vals, lr_coefs = get_importances(predictors, outcome, feature_names)\n",
        "# plot_results(biv_corrs, rf_importances, rf_shap_vals, nn_shap_vals, lr_coefs, feature_names, graph_name='no_H_no_D.png')\n",
        "\n",
        "biv_covs_c,biv_corrs_c, rf_importances_c, rf_shap_vals_c, nn_shap_vals_c, lr_coefs_c = get_importances(predictors, outcome, feature_names_c, standardize=True)\n",
        "gn = 'no_H_no_D_std.png' if not low_corr else 'no_H_no_D_std_low_corr.png'\n",
        "plot_results(biv_corrs_c, rf_importances_c, rf_shap_vals_c, nn_shap_vals_c, lr_coefs_c, feature_names_c, graph_name=gn)"
      ]
    },
    {
      "cell_type": "markdown",
      "metadata": {
        "id": "HTe3Z42tImD5"
      },
      "source": [
        "### **Example 2**"
      ]
    },
    {
      "cell_type": "code",
      "execution_count": null,
      "metadata": {
        "id": "7xfSFRbKInlz"
      },
      "outputs": [],
      "source": [
        "# #Alternatively, with lower levels of association\n",
        "low_corr = 1 \n",
        "C = np.random.randn(N,1)   # exogenous cause of X\n",
        "A = 0.8 * np.random.randn(N,1)  # backdoor adjustment variable (also cause of X)\n",
        "K = 0.2*A + 0.1 * np.random.randn(N,1)  # backdoor adjustment variable (cause of A and Y)\n",
        "X = 0.2*C - 0.4*A + 0.2 * np.random.randn(N,1)  # treatment variable\n",
        "F = 0.6*X + 0.8 * np.random.randn(N,1)  # descendent of treatment variable\n",
        "D = -0.4*X + 0.5 * np.random.randn(N,1)  # mediator between x and y\n",
        "G = 0.2*D + 0.5 * np.random.randn(N,1)  # descendent of mediator\n",
        "Y = 0.4*K - D + 0.2 * np.random.randn(N,1)  # outcome variable \n",
        "H = 0.1*Y + 0.1 * np.random.randn(N,1)  # effect of Y\n",
        "# ###############################################################\n",
        "feature_names = ['C', 'A', 'K', 'X', 'F', 'D', 'G', 'H']"
      ]
    },
    {
      "cell_type": "markdown",
      "metadata": {
        "id": "jlIBPovbuTuL"
      },
      "source": [
        "### **Estimation of the causal effect using the library dowhy**"
      ]
    },
    {
      "cell_type": "code",
      "execution_count": 85,
      "metadata": {
        "id": "syFgu255utKP"
      },
      "outputs": [],
      "source": [
        "example1_array=np.concatenate((C, A, K, X, F, D, G, Y,H),axis=1)\n",
        "df = pd.DataFrame(data = example1_array, columns=['C', 'A', 'K', 'X', 'F', 'D', 'G', 'Y','H'])"
      ]
    },
    {
      "cell_type": "code",
      "execution_count": 87,
      "metadata": {
        "id": "noDm0DRnvaxs"
      },
      "outputs": [],
      "source": [
        "causal_graph = \"\"\"digraph {\n",
        "F;\n",
        "G;\n",
        "H;\n",
        "A->K;\n",
        "A->X;\n",
        "C->X;\n",
        "X->F;\n",
        "X->D;\n",
        "K->Y;\n",
        "D->Y;\n",
        "D->G;\n",
        "Y->H;\n",
        "}\"\"\""
      ]
    },
    {
      "cell_type": "code",
      "execution_count": 89,
      "metadata": {
        "id": "BK3G-Hd0uizK"
      },
      "outputs": [],
      "source": [
        "model=CausalModel(\n",
        "        data = df,\n",
        "        graph=causal_graph.replace(\"\\n\", \" \"),\n",
        "        treatment=\"X\",\n",
        "        outcome=\"Y\"\n",
        "        )"
      ]
    },
    {
      "cell_type": "code",
      "execution_count": 90,
      "metadata": {
        "colab": {
          "base_uri": "https://localhost:8080/"
        },
        "id": "_u5bzowrwVxA",
        "outputId": "5734f4e3-59aa-4ba3-ae32-64f51aa4bc9a"
      },
      "outputs": [
        {
          "name": "stdout",
          "output_type": "stream",
          "text": [
            "Estimand type: EstimandType.NONPARAMETRIC_ATE\n",
            "\n",
            "### Estimand : 1\n",
            "Estimand name: backdoor\n",
            "Estimand expression:\n",
            " d          \n",
            "────(E[Y|A])\n",
            "d[X]        \n",
            "Estimand assumption 1, Unconfoundedness: If U→{X} and U→Y then P(Y|X,A,U) = P(Y|X,A)\n",
            "\n",
            "### Estimand : 2\n",
            "Estimand name: iv\n",
            "Estimand expression:\n",
            " ⎡                   -1⎤\n",
            " ⎢ d      ⎛ d       ⎞  ⎥\n",
            "E⎢────(Y)⋅⎜────([X])⎟  ⎥\n",
            " ⎣d[C]    ⎝d[C]     ⎠  ⎦\n",
            "Estimand assumption 1, As-if-random: If U→→Y then ¬(U →→{C})\n",
            "Estimand assumption 2, Exclusion: If we remove {C}→{X}, then ¬({C}→Y)\n",
            "\n",
            "### Estimand : 3\n",
            "Estimand name: frontdoor\n",
            "Estimand expression:\n",
            " ⎡ d       d       ⎤\n",
            "E⎢────(Y)⋅────([D])⎥\n",
            " ⎣d[D]    d[X]     ⎦\n",
            "Estimand assumption 1, Full-mediation: D intercepts (blocks) all directed paths from X to Y.\n",
            "Estimand assumption 2, First-stage-unconfoundedness: If U→{X} and U→{D} then P(D|X,U) = P(D|X)\n",
            "Estimand assumption 3, Second-stage-unconfoundedness: If U→{D} and U→Y then P(Y|D, X, U) = P(Y|D, X)\n",
            "\n"
          ]
        }
      ],
      "source": [
        "identified_estimand = model.identify_effect(proceed_when_unidentifiable=True)\n",
        "print(identified_estimand)"
      ]
    },
    {
      "cell_type": "code",
      "execution_count": 93,
      "metadata": {
        "colab": {
          "base_uri": "https://localhost:8080/"
        },
        "id": "TgqCvTA2wbqc",
        "outputId": "20ed6559-bdb2-4612-e735-c4a2dbcb676f"
      },
      "outputs": [
        {
          "name": "stdout",
          "output_type": "stream",
          "text": [
            "*** Causal Estimate ***\n",
            "\n",
            "## Identified estimand\n",
            "Estimand type: EstimandType.NONPARAMETRIC_ATE\n",
            "\n",
            "### Estimand : 1\n",
            "Estimand name: backdoor\n",
            "Estimand expression:\n",
            " d          \n",
            "────(E[Y|A])\n",
            "d[X]        \n",
            "Estimand assumption 1, Unconfoundedness: If U→{X} and U→Y then P(Y|X,A,U) = P(Y|X,A)\n",
            "\n",
            "## Realized estimand\n",
            "b: Y~X+A+X*K\n",
            "Target units: ate\n",
            "\n",
            "## Estimate\n",
            "Mean value: 2.032792434187587\n",
            "\n"
          ]
        }
      ],
      "source": [
        "causal_estimate_reg = model.estimate_effect(identified_estimand,\n",
        "        method_name=\"backdoor.linear_regression\",\n",
        "        test_significance=True)\n",
        "print(causal_estimate_reg)"
      ]
    }
  ],
  "metadata": {
    "colab": {
      "provenance": []
    },
    "kernelspec": {
      "display_name": "Python 3",
      "name": "python3"
    },
    "language_info": {
      "name": "python"
    },
    "widgets": {
      "application/vnd.jupyter.widget-state+json": {
        "08a163c1467846e6b8b29f259a3dc10d": {
          "model_module": "@jupyter-widgets/controls",
          "model_module_version": "1.5.0",
          "model_name": "FloatProgressModel",
          "state": {
            "_dom_classes": [],
            "_model_module": "@jupyter-widgets/controls",
            "_model_module_version": "1.5.0",
            "_model_name": "FloatProgressModel",
            "_view_count": null,
            "_view_module": "@jupyter-widgets/controls",
            "_view_module_version": "1.5.0",
            "_view_name": "ProgressView",
            "bar_style": "success",
            "description": "",
            "description_tooltip": null,
            "layout": "IPY_MODEL_89181934e9db4878aea92e41e50eac5e",
            "max": 80,
            "min": 0,
            "orientation": "horizontal",
            "style": "IPY_MODEL_16eed3629ce748cbaad86704fb465fa4",
            "value": 80
          }
        },
        "0983389dad0840bdbc29b94aca649b88": {
          "model_module": "@jupyter-widgets/controls",
          "model_module_version": "1.5.0",
          "model_name": "DescriptionStyleModel",
          "state": {
            "_model_module": "@jupyter-widgets/controls",
            "_model_module_version": "1.5.0",
            "_model_name": "DescriptionStyleModel",
            "_view_count": null,
            "_view_module": "@jupyter-widgets/base",
            "_view_module_version": "1.2.0",
            "_view_name": "StyleView",
            "description_width": ""
          }
        },
        "0b66e9f40a524262a6ba6b6bd2af119c": {
          "model_module": "@jupyter-widgets/controls",
          "model_module_version": "1.5.0",
          "model_name": "HTMLModel",
          "state": {
            "_dom_classes": [],
            "_model_module": "@jupyter-widgets/controls",
            "_model_module_version": "1.5.0",
            "_model_name": "HTMLModel",
            "_view_count": null,
            "_view_module": "@jupyter-widgets/controls",
            "_view_module_version": "1.5.0",
            "_view_name": "HTMLView",
            "description": "",
            "description_tooltip": null,
            "layout": "IPY_MODEL_aed5bc738f474e408ffb4e134e36c129",
            "placeholder": "​",
            "style": "IPY_MODEL_0983389dad0840bdbc29b94aca649b88",
            "value": " 80/80 [00:24&lt;00:00,  3.93it/s]"
          }
        },
        "15fc155447e743e98b3b8a5ac53baeea": {
          "model_module": "@jupyter-widgets/controls",
          "model_module_version": "1.5.0",
          "model_name": "ProgressStyleModel",
          "state": {
            "_model_module": "@jupyter-widgets/controls",
            "_model_module_version": "1.5.0",
            "_model_name": "ProgressStyleModel",
            "_view_count": null,
            "_view_module": "@jupyter-widgets/base",
            "_view_module_version": "1.2.0",
            "_view_name": "StyleView",
            "bar_color": null,
            "description_width": ""
          }
        },
        "16eed3629ce748cbaad86704fb465fa4": {
          "model_module": "@jupyter-widgets/controls",
          "model_module_version": "1.5.0",
          "model_name": "ProgressStyleModel",
          "state": {
            "_model_module": "@jupyter-widgets/controls",
            "_model_module_version": "1.5.0",
            "_model_name": "ProgressStyleModel",
            "_view_count": null,
            "_view_module": "@jupyter-widgets/base",
            "_view_module_version": "1.2.0",
            "_view_name": "StyleView",
            "bar_color": null,
            "description_width": ""
          }
        },
        "1c6a8bc3d6304e1c96fe8c151067aa6b": {
          "model_module": "@jupyter-widgets/base",
          "model_module_version": "1.2.0",
          "model_name": "LayoutModel",
          "state": {
            "_model_module": "@jupyter-widgets/base",
            "_model_module_version": "1.2.0",
            "_model_name": "LayoutModel",
            "_view_count": null,
            "_view_module": "@jupyter-widgets/base",
            "_view_module_version": "1.2.0",
            "_view_name": "LayoutView",
            "align_content": null,
            "align_items": null,
            "align_self": null,
            "border": null,
            "bottom": null,
            "display": null,
            "flex": null,
            "flex_flow": null,
            "grid_area": null,
            "grid_auto_columns": null,
            "grid_auto_flow": null,
            "grid_auto_rows": null,
            "grid_column": null,
            "grid_gap": null,
            "grid_row": null,
            "grid_template_areas": null,
            "grid_template_columns": null,
            "grid_template_rows": null,
            "height": null,
            "justify_content": null,
            "justify_items": null,
            "left": null,
            "margin": null,
            "max_height": null,
            "max_width": null,
            "min_height": null,
            "min_width": null,
            "object_fit": null,
            "object_position": null,
            "order": null,
            "overflow": null,
            "overflow_x": null,
            "overflow_y": null,
            "padding": null,
            "right": null,
            "top": null,
            "visibility": null,
            "width": null
          }
        },
        "1cdab72f7ae84f30bb1ee2484b970078": {
          "model_module": "@jupyter-widgets/base",
          "model_module_version": "1.2.0",
          "model_name": "LayoutModel",
          "state": {
            "_model_module": "@jupyter-widgets/base",
            "_model_module_version": "1.2.0",
            "_model_name": "LayoutModel",
            "_view_count": null,
            "_view_module": "@jupyter-widgets/base",
            "_view_module_version": "1.2.0",
            "_view_name": "LayoutView",
            "align_content": null,
            "align_items": null,
            "align_self": null,
            "border": null,
            "bottom": null,
            "display": null,
            "flex": null,
            "flex_flow": null,
            "grid_area": null,
            "grid_auto_columns": null,
            "grid_auto_flow": null,
            "grid_auto_rows": null,
            "grid_column": null,
            "grid_gap": null,
            "grid_row": null,
            "grid_template_areas": null,
            "grid_template_columns": null,
            "grid_template_rows": null,
            "height": null,
            "justify_content": null,
            "justify_items": null,
            "left": null,
            "margin": null,
            "max_height": null,
            "max_width": null,
            "min_height": null,
            "min_width": null,
            "object_fit": null,
            "object_position": null,
            "order": null,
            "overflow": null,
            "overflow_x": null,
            "overflow_y": null,
            "padding": null,
            "right": null,
            "top": null,
            "visibility": null,
            "width": null
          }
        },
        "2869f85297cf4a67a2fc378de4e06a11": {
          "model_module": "@jupyter-widgets/controls",
          "model_module_version": "1.5.0",
          "model_name": "HBoxModel",
          "state": {
            "_dom_classes": [],
            "_model_module": "@jupyter-widgets/controls",
            "_model_module_version": "1.5.0",
            "_model_name": "HBoxModel",
            "_view_count": null,
            "_view_module": "@jupyter-widgets/controls",
            "_view_module_version": "1.5.0",
            "_view_name": "HBoxView",
            "box_style": "",
            "children": [
              "IPY_MODEL_e7396b9c48a74a11a7286fefbf128cd5",
              "IPY_MODEL_af0d0950db844d758017b272b2eb97d2",
              "IPY_MODEL_0b66e9f40a524262a6ba6b6bd2af119c"
            ],
            "layout": "IPY_MODEL_b40d7b481e164f2e8dec033ab96503b8"
          }
        },
        "28de9fffc01147c38950c16d281a3925": {
          "model_module": "@jupyter-widgets/base",
          "model_module_version": "1.2.0",
          "model_name": "LayoutModel",
          "state": {
            "_model_module": "@jupyter-widgets/base",
            "_model_module_version": "1.2.0",
            "_model_name": "LayoutModel",
            "_view_count": null,
            "_view_module": "@jupyter-widgets/base",
            "_view_module_version": "1.2.0",
            "_view_name": "LayoutView",
            "align_content": null,
            "align_items": null,
            "align_self": null,
            "border": null,
            "bottom": null,
            "display": null,
            "flex": null,
            "flex_flow": null,
            "grid_area": null,
            "grid_auto_columns": null,
            "grid_auto_flow": null,
            "grid_auto_rows": null,
            "grid_column": null,
            "grid_gap": null,
            "grid_row": null,
            "grid_template_areas": null,
            "grid_template_columns": null,
            "grid_template_rows": null,
            "height": null,
            "justify_content": null,
            "justify_items": null,
            "left": null,
            "margin": null,
            "max_height": null,
            "max_width": null,
            "min_height": null,
            "min_width": null,
            "object_fit": null,
            "object_position": null,
            "order": null,
            "overflow": null,
            "overflow_x": null,
            "overflow_y": null,
            "padding": null,
            "right": null,
            "top": null,
            "visibility": null,
            "width": null
          }
        },
        "33a53dd095454a53b9578aea9e121ebd": {
          "model_module": "@jupyter-widgets/controls",
          "model_module_version": "1.5.0",
          "model_name": "DescriptionStyleModel",
          "state": {
            "_model_module": "@jupyter-widgets/controls",
            "_model_module_version": "1.5.0",
            "_model_name": "DescriptionStyleModel",
            "_view_count": null,
            "_view_module": "@jupyter-widgets/base",
            "_view_module_version": "1.2.0",
            "_view_name": "StyleView",
            "description_width": ""
          }
        },
        "3d34eef41391491e9488615d6c5c3532": {
          "model_module": "@jupyter-widgets/controls",
          "model_module_version": "1.5.0",
          "model_name": "HTMLModel",
          "state": {
            "_dom_classes": [],
            "_model_module": "@jupyter-widgets/controls",
            "_model_module_version": "1.5.0",
            "_model_name": "HTMLModel",
            "_view_count": null,
            "_view_module": "@jupyter-widgets/controls",
            "_view_module_version": "1.5.0",
            "_view_name": "HTMLView",
            "description": "",
            "description_tooltip": null,
            "layout": "IPY_MODEL_b13f860167dd4a7aacb4ab39ab8c80b9",
            "placeholder": "​",
            "style": "IPY_MODEL_5feb7efd5ee04fb78e74616b2fdd4a01",
            "value": "100%"
          }
        },
        "44aaa585760a4c6b8a9f735d2bc07300": {
          "model_module": "@jupyter-widgets/controls",
          "model_module_version": "1.5.0",
          "model_name": "FloatProgressModel",
          "state": {
            "_dom_classes": [],
            "_model_module": "@jupyter-widgets/controls",
            "_model_module_version": "1.5.0",
            "_model_name": "FloatProgressModel",
            "_view_count": null,
            "_view_module": "@jupyter-widgets/controls",
            "_view_module_version": "1.5.0",
            "_view_name": "ProgressView",
            "bar_style": "success",
            "description": "",
            "description_tooltip": null,
            "layout": "IPY_MODEL_767fcd41560743ec8686aa3b46828474",
            "max": 80,
            "min": 0,
            "orientation": "horizontal",
            "style": "IPY_MODEL_5d915681f3a14bec8fd676ca269d0c00",
            "value": 80
          }
        },
        "50f37e4eccab48fa8b212ca04e55a3a5": {
          "model_module": "@jupyter-widgets/controls",
          "model_module_version": "1.5.0",
          "model_name": "DescriptionStyleModel",
          "state": {
            "_model_module": "@jupyter-widgets/controls",
            "_model_module_version": "1.5.0",
            "_model_name": "DescriptionStyleModel",
            "_view_count": null,
            "_view_module": "@jupyter-widgets/base",
            "_view_module_version": "1.2.0",
            "_view_name": "StyleView",
            "description_width": ""
          }
        },
        "5659ff12b1c44109a4a2d855dc528943": {
          "model_module": "@jupyter-widgets/controls",
          "model_module_version": "1.5.0",
          "model_name": "HTMLModel",
          "state": {
            "_dom_classes": [],
            "_model_module": "@jupyter-widgets/controls",
            "_model_module_version": "1.5.0",
            "_model_name": "HTMLModel",
            "_view_count": null,
            "_view_module": "@jupyter-widgets/controls",
            "_view_module_version": "1.5.0",
            "_view_name": "HTMLView",
            "description": "",
            "description_tooltip": null,
            "layout": "IPY_MODEL_96804858790a465a90f712bf441c417b",
            "placeholder": "​",
            "style": "IPY_MODEL_50f37e4eccab48fa8b212ca04e55a3a5",
            "value": " 80/80 [00:16&lt;00:00,  5.23it/s]"
          }
        },
        "5d915681f3a14bec8fd676ca269d0c00": {
          "model_module": "@jupyter-widgets/controls",
          "model_module_version": "1.5.0",
          "model_name": "ProgressStyleModel",
          "state": {
            "_model_module": "@jupyter-widgets/controls",
            "_model_module_version": "1.5.0",
            "_model_name": "ProgressStyleModel",
            "_view_count": null,
            "_view_module": "@jupyter-widgets/base",
            "_view_module_version": "1.2.0",
            "_view_name": "StyleView",
            "bar_color": null,
            "description_width": ""
          }
        },
        "5feb7efd5ee04fb78e74616b2fdd4a01": {
          "model_module": "@jupyter-widgets/controls",
          "model_module_version": "1.5.0",
          "model_name": "DescriptionStyleModel",
          "state": {
            "_model_module": "@jupyter-widgets/controls",
            "_model_module_version": "1.5.0",
            "_model_name": "DescriptionStyleModel",
            "_view_count": null,
            "_view_module": "@jupyter-widgets/base",
            "_view_module_version": "1.2.0",
            "_view_name": "StyleView",
            "description_width": ""
          }
        },
        "767fcd41560743ec8686aa3b46828474": {
          "model_module": "@jupyter-widgets/base",
          "model_module_version": "1.2.0",
          "model_name": "LayoutModel",
          "state": {
            "_model_module": "@jupyter-widgets/base",
            "_model_module_version": "1.2.0",
            "_model_name": "LayoutModel",
            "_view_count": null,
            "_view_module": "@jupyter-widgets/base",
            "_view_module_version": "1.2.0",
            "_view_name": "LayoutView",
            "align_content": null,
            "align_items": null,
            "align_self": null,
            "border": null,
            "bottom": null,
            "display": null,
            "flex": null,
            "flex_flow": null,
            "grid_area": null,
            "grid_auto_columns": null,
            "grid_auto_flow": null,
            "grid_auto_rows": null,
            "grid_column": null,
            "grid_gap": null,
            "grid_row": null,
            "grid_template_areas": null,
            "grid_template_columns": null,
            "grid_template_rows": null,
            "height": null,
            "justify_content": null,
            "justify_items": null,
            "left": null,
            "margin": null,
            "max_height": null,
            "max_width": null,
            "min_height": null,
            "min_width": null,
            "object_fit": null,
            "object_position": null,
            "order": null,
            "overflow": null,
            "overflow_x": null,
            "overflow_y": null,
            "padding": null,
            "right": null,
            "top": null,
            "visibility": null,
            "width": null
          }
        },
        "86589711e259458a95b9c604e3941fd6": {
          "model_module": "@jupyter-widgets/controls",
          "model_module_version": "1.5.0",
          "model_name": "HBoxModel",
          "state": {
            "_dom_classes": [],
            "_model_module": "@jupyter-widgets/controls",
            "_model_module_version": "1.5.0",
            "_model_name": "HBoxModel",
            "_view_count": null,
            "_view_module": "@jupyter-widgets/controls",
            "_view_module_version": "1.5.0",
            "_view_name": "HBoxView",
            "box_style": "",
            "children": [
              "IPY_MODEL_3d34eef41391491e9488615d6c5c3532",
              "IPY_MODEL_44aaa585760a4c6b8a9f735d2bc07300",
              "IPY_MODEL_e21c43e697b24f509c89323ee4c82b1f"
            ],
            "layout": "IPY_MODEL_f00fe2b8637e434fafd56207a8205bf0"
          }
        },
        "8849e630aeb94a22b7600bf6512542c4": {
          "model_module": "@jupyter-widgets/controls",
          "model_module_version": "1.5.0",
          "model_name": "DescriptionStyleModel",
          "state": {
            "_model_module": "@jupyter-widgets/controls",
            "_model_module_version": "1.5.0",
            "_model_name": "DescriptionStyleModel",
            "_view_count": null,
            "_view_module": "@jupyter-widgets/base",
            "_view_module_version": "1.2.0",
            "_view_name": "StyleView",
            "description_width": ""
          }
        },
        "89181934e9db4878aea92e41e50eac5e": {
          "model_module": "@jupyter-widgets/base",
          "model_module_version": "1.2.0",
          "model_name": "LayoutModel",
          "state": {
            "_model_module": "@jupyter-widgets/base",
            "_model_module_version": "1.2.0",
            "_model_name": "LayoutModel",
            "_view_count": null,
            "_view_module": "@jupyter-widgets/base",
            "_view_module_version": "1.2.0",
            "_view_name": "LayoutView",
            "align_content": null,
            "align_items": null,
            "align_self": null,
            "border": null,
            "bottom": null,
            "display": null,
            "flex": null,
            "flex_flow": null,
            "grid_area": null,
            "grid_auto_columns": null,
            "grid_auto_flow": null,
            "grid_auto_rows": null,
            "grid_column": null,
            "grid_gap": null,
            "grid_row": null,
            "grid_template_areas": null,
            "grid_template_columns": null,
            "grid_template_rows": null,
            "height": null,
            "justify_content": null,
            "justify_items": null,
            "left": null,
            "margin": null,
            "max_height": null,
            "max_width": null,
            "min_height": null,
            "min_width": null,
            "object_fit": null,
            "object_position": null,
            "order": null,
            "overflow": null,
            "overflow_x": null,
            "overflow_y": null,
            "padding": null,
            "right": null,
            "top": null,
            "visibility": null,
            "width": null
          }
        },
        "96804858790a465a90f712bf441c417b": {
          "model_module": "@jupyter-widgets/base",
          "model_module_version": "1.2.0",
          "model_name": "LayoutModel",
          "state": {
            "_model_module": "@jupyter-widgets/base",
            "_model_module_version": "1.2.0",
            "_model_name": "LayoutModel",
            "_view_count": null,
            "_view_module": "@jupyter-widgets/base",
            "_view_module_version": "1.2.0",
            "_view_name": "LayoutView",
            "align_content": null,
            "align_items": null,
            "align_self": null,
            "border": null,
            "bottom": null,
            "display": null,
            "flex": null,
            "flex_flow": null,
            "grid_area": null,
            "grid_auto_columns": null,
            "grid_auto_flow": null,
            "grid_auto_rows": null,
            "grid_column": null,
            "grid_gap": null,
            "grid_row": null,
            "grid_template_areas": null,
            "grid_template_columns": null,
            "grid_template_rows": null,
            "height": null,
            "justify_content": null,
            "justify_items": null,
            "left": null,
            "margin": null,
            "max_height": null,
            "max_width": null,
            "min_height": null,
            "min_width": null,
            "object_fit": null,
            "object_position": null,
            "order": null,
            "overflow": null,
            "overflow_x": null,
            "overflow_y": null,
            "padding": null,
            "right": null,
            "top": null,
            "visibility": null,
            "width": null
          }
        },
        "aed5bc738f474e408ffb4e134e36c129": {
          "model_module": "@jupyter-widgets/base",
          "model_module_version": "1.2.0",
          "model_name": "LayoutModel",
          "state": {
            "_model_module": "@jupyter-widgets/base",
            "_model_module_version": "1.2.0",
            "_model_name": "LayoutModel",
            "_view_count": null,
            "_view_module": "@jupyter-widgets/base",
            "_view_module_version": "1.2.0",
            "_view_name": "LayoutView",
            "align_content": null,
            "align_items": null,
            "align_self": null,
            "border": null,
            "bottom": null,
            "display": null,
            "flex": null,
            "flex_flow": null,
            "grid_area": null,
            "grid_auto_columns": null,
            "grid_auto_flow": null,
            "grid_auto_rows": null,
            "grid_column": null,
            "grid_gap": null,
            "grid_row": null,
            "grid_template_areas": null,
            "grid_template_columns": null,
            "grid_template_rows": null,
            "height": null,
            "justify_content": null,
            "justify_items": null,
            "left": null,
            "margin": null,
            "max_height": null,
            "max_width": null,
            "min_height": null,
            "min_width": null,
            "object_fit": null,
            "object_position": null,
            "order": null,
            "overflow": null,
            "overflow_x": null,
            "overflow_y": null,
            "padding": null,
            "right": null,
            "top": null,
            "visibility": null,
            "width": null
          }
        },
        "af0d0950db844d758017b272b2eb97d2": {
          "model_module": "@jupyter-widgets/controls",
          "model_module_version": "1.5.0",
          "model_name": "FloatProgressModel",
          "state": {
            "_dom_classes": [],
            "_model_module": "@jupyter-widgets/controls",
            "_model_module_version": "1.5.0",
            "_model_name": "FloatProgressModel",
            "_view_count": null,
            "_view_module": "@jupyter-widgets/controls",
            "_view_module_version": "1.5.0",
            "_view_name": "ProgressView",
            "bar_style": "success",
            "description": "",
            "description_tooltip": null,
            "layout": "IPY_MODEL_de73ff7fd04848f1be74d74cd8f295e3",
            "max": 80,
            "min": 0,
            "orientation": "horizontal",
            "style": "IPY_MODEL_15fc155447e743e98b3b8a5ac53baeea",
            "value": 80
          }
        },
        "b13f860167dd4a7aacb4ab39ab8c80b9": {
          "model_module": "@jupyter-widgets/base",
          "model_module_version": "1.2.0",
          "model_name": "LayoutModel",
          "state": {
            "_model_module": "@jupyter-widgets/base",
            "_model_module_version": "1.2.0",
            "_model_name": "LayoutModel",
            "_view_count": null,
            "_view_module": "@jupyter-widgets/base",
            "_view_module_version": "1.2.0",
            "_view_name": "LayoutView",
            "align_content": null,
            "align_items": null,
            "align_self": null,
            "border": null,
            "bottom": null,
            "display": null,
            "flex": null,
            "flex_flow": null,
            "grid_area": null,
            "grid_auto_columns": null,
            "grid_auto_flow": null,
            "grid_auto_rows": null,
            "grid_column": null,
            "grid_gap": null,
            "grid_row": null,
            "grid_template_areas": null,
            "grid_template_columns": null,
            "grid_template_rows": null,
            "height": null,
            "justify_content": null,
            "justify_items": null,
            "left": null,
            "margin": null,
            "max_height": null,
            "max_width": null,
            "min_height": null,
            "min_width": null,
            "object_fit": null,
            "object_position": null,
            "order": null,
            "overflow": null,
            "overflow_x": null,
            "overflow_y": null,
            "padding": null,
            "right": null,
            "top": null,
            "visibility": null,
            "width": null
          }
        },
        "b40d7b481e164f2e8dec033ab96503b8": {
          "model_module": "@jupyter-widgets/base",
          "model_module_version": "1.2.0",
          "model_name": "LayoutModel",
          "state": {
            "_model_module": "@jupyter-widgets/base",
            "_model_module_version": "1.2.0",
            "_model_name": "LayoutModel",
            "_view_count": null,
            "_view_module": "@jupyter-widgets/base",
            "_view_module_version": "1.2.0",
            "_view_name": "LayoutView",
            "align_content": null,
            "align_items": null,
            "align_self": null,
            "border": null,
            "bottom": null,
            "display": null,
            "flex": null,
            "flex_flow": null,
            "grid_area": null,
            "grid_auto_columns": null,
            "grid_auto_flow": null,
            "grid_auto_rows": null,
            "grid_column": null,
            "grid_gap": null,
            "grid_row": null,
            "grid_template_areas": null,
            "grid_template_columns": null,
            "grid_template_rows": null,
            "height": null,
            "justify_content": null,
            "justify_items": null,
            "left": null,
            "margin": null,
            "max_height": null,
            "max_width": null,
            "min_height": null,
            "min_width": null,
            "object_fit": null,
            "object_position": null,
            "order": null,
            "overflow": null,
            "overflow_x": null,
            "overflow_y": null,
            "padding": null,
            "right": null,
            "top": null,
            "visibility": null,
            "width": null
          }
        },
        "b5c5e396b2b24b509cba0d9403e4000c": {
          "model_module": "@jupyter-widgets/controls",
          "model_module_version": "1.5.0",
          "model_name": "HBoxModel",
          "state": {
            "_dom_classes": [],
            "_model_module": "@jupyter-widgets/controls",
            "_model_module_version": "1.5.0",
            "_model_name": "HBoxModel",
            "_view_count": null,
            "_view_module": "@jupyter-widgets/controls",
            "_view_module_version": "1.5.0",
            "_view_name": "HBoxView",
            "box_style": "",
            "children": [
              "IPY_MODEL_ed607aa355434e9690e6b9a4b29bdb88",
              "IPY_MODEL_08a163c1467846e6b8b29f259a3dc10d",
              "IPY_MODEL_5659ff12b1c44109a4a2d855dc528943"
            ],
            "layout": "IPY_MODEL_28de9fffc01147c38950c16d281a3925"
          }
        },
        "d871956fad60447abbc758ff6ced580a": {
          "model_module": "@jupyter-widgets/controls",
          "model_module_version": "1.5.0",
          "model_name": "DescriptionStyleModel",
          "state": {
            "_model_module": "@jupyter-widgets/controls",
            "_model_module_version": "1.5.0",
            "_model_name": "DescriptionStyleModel",
            "_view_count": null,
            "_view_module": "@jupyter-widgets/base",
            "_view_module_version": "1.2.0",
            "_view_name": "StyleView",
            "description_width": ""
          }
        },
        "de73ff7fd04848f1be74d74cd8f295e3": {
          "model_module": "@jupyter-widgets/base",
          "model_module_version": "1.2.0",
          "model_name": "LayoutModel",
          "state": {
            "_model_module": "@jupyter-widgets/base",
            "_model_module_version": "1.2.0",
            "_model_name": "LayoutModel",
            "_view_count": null,
            "_view_module": "@jupyter-widgets/base",
            "_view_module_version": "1.2.0",
            "_view_name": "LayoutView",
            "align_content": null,
            "align_items": null,
            "align_self": null,
            "border": null,
            "bottom": null,
            "display": null,
            "flex": null,
            "flex_flow": null,
            "grid_area": null,
            "grid_auto_columns": null,
            "grid_auto_flow": null,
            "grid_auto_rows": null,
            "grid_column": null,
            "grid_gap": null,
            "grid_row": null,
            "grid_template_areas": null,
            "grid_template_columns": null,
            "grid_template_rows": null,
            "height": null,
            "justify_content": null,
            "justify_items": null,
            "left": null,
            "margin": null,
            "max_height": null,
            "max_width": null,
            "min_height": null,
            "min_width": null,
            "object_fit": null,
            "object_position": null,
            "order": null,
            "overflow": null,
            "overflow_x": null,
            "overflow_y": null,
            "padding": null,
            "right": null,
            "top": null,
            "visibility": null,
            "width": null
          }
        },
        "e21c43e697b24f509c89323ee4c82b1f": {
          "model_module": "@jupyter-widgets/controls",
          "model_module_version": "1.5.0",
          "model_name": "HTMLModel",
          "state": {
            "_dom_classes": [],
            "_model_module": "@jupyter-widgets/controls",
            "_model_module_version": "1.5.0",
            "_model_name": "HTMLModel",
            "_view_count": null,
            "_view_module": "@jupyter-widgets/controls",
            "_view_module_version": "1.5.0",
            "_view_name": "HTMLView",
            "description": "",
            "description_tooltip": null,
            "layout": "IPY_MODEL_e905b979de804575b7b08d421ddbdd74",
            "placeholder": "​",
            "style": "IPY_MODEL_33a53dd095454a53b9578aea9e121ebd",
            "value": " 80/80 [00:15&lt;00:00,  3.70it/s]"
          }
        },
        "e7396b9c48a74a11a7286fefbf128cd5": {
          "model_module": "@jupyter-widgets/controls",
          "model_module_version": "1.5.0",
          "model_name": "HTMLModel",
          "state": {
            "_dom_classes": [],
            "_model_module": "@jupyter-widgets/controls",
            "_model_module_version": "1.5.0",
            "_model_name": "HTMLModel",
            "_view_count": null,
            "_view_module": "@jupyter-widgets/controls",
            "_view_module_version": "1.5.0",
            "_view_name": "HTMLView",
            "description": "",
            "description_tooltip": null,
            "layout": "IPY_MODEL_1cdab72f7ae84f30bb1ee2484b970078",
            "placeholder": "​",
            "style": "IPY_MODEL_8849e630aeb94a22b7600bf6512542c4",
            "value": "100%"
          }
        },
        "e905b979de804575b7b08d421ddbdd74": {
          "model_module": "@jupyter-widgets/base",
          "model_module_version": "1.2.0",
          "model_name": "LayoutModel",
          "state": {
            "_model_module": "@jupyter-widgets/base",
            "_model_module_version": "1.2.0",
            "_model_name": "LayoutModel",
            "_view_count": null,
            "_view_module": "@jupyter-widgets/base",
            "_view_module_version": "1.2.0",
            "_view_name": "LayoutView",
            "align_content": null,
            "align_items": null,
            "align_self": null,
            "border": null,
            "bottom": null,
            "display": null,
            "flex": null,
            "flex_flow": null,
            "grid_area": null,
            "grid_auto_columns": null,
            "grid_auto_flow": null,
            "grid_auto_rows": null,
            "grid_column": null,
            "grid_gap": null,
            "grid_row": null,
            "grid_template_areas": null,
            "grid_template_columns": null,
            "grid_template_rows": null,
            "height": null,
            "justify_content": null,
            "justify_items": null,
            "left": null,
            "margin": null,
            "max_height": null,
            "max_width": null,
            "min_height": null,
            "min_width": null,
            "object_fit": null,
            "object_position": null,
            "order": null,
            "overflow": null,
            "overflow_x": null,
            "overflow_y": null,
            "padding": null,
            "right": null,
            "top": null,
            "visibility": null,
            "width": null
          }
        },
        "ed607aa355434e9690e6b9a4b29bdb88": {
          "model_module": "@jupyter-widgets/controls",
          "model_module_version": "1.5.0",
          "model_name": "HTMLModel",
          "state": {
            "_dom_classes": [],
            "_model_module": "@jupyter-widgets/controls",
            "_model_module_version": "1.5.0",
            "_model_name": "HTMLModel",
            "_view_count": null,
            "_view_module": "@jupyter-widgets/controls",
            "_view_module_version": "1.5.0",
            "_view_name": "HTMLView",
            "description": "",
            "description_tooltip": null,
            "layout": "IPY_MODEL_1c6a8bc3d6304e1c96fe8c151067aa6b",
            "placeholder": "​",
            "style": "IPY_MODEL_d871956fad60447abbc758ff6ced580a",
            "value": "100%"
          }
        },
        "f00fe2b8637e434fafd56207a8205bf0": {
          "model_module": "@jupyter-widgets/base",
          "model_module_version": "1.2.0",
          "model_name": "LayoutModel",
          "state": {
            "_model_module": "@jupyter-widgets/base",
            "_model_module_version": "1.2.0",
            "_model_name": "LayoutModel",
            "_view_count": null,
            "_view_module": "@jupyter-widgets/base",
            "_view_module_version": "1.2.0",
            "_view_name": "LayoutView",
            "align_content": null,
            "align_items": null,
            "align_self": null,
            "border": null,
            "bottom": null,
            "display": null,
            "flex": null,
            "flex_flow": null,
            "grid_area": null,
            "grid_auto_columns": null,
            "grid_auto_flow": null,
            "grid_auto_rows": null,
            "grid_column": null,
            "grid_gap": null,
            "grid_row": null,
            "grid_template_areas": null,
            "grid_template_columns": null,
            "grid_template_rows": null,
            "height": null,
            "justify_content": null,
            "justify_items": null,
            "left": null,
            "margin": null,
            "max_height": null,
            "max_width": null,
            "min_height": null,
            "min_width": null,
            "object_fit": null,
            "object_position": null,
            "order": null,
            "overflow": null,
            "overflow_x": null,
            "overflow_y": null,
            "padding": null,
            "right": null,
            "top": null,
            "visibility": null,
            "width": null
          }
        }
      }
    }
  },
  "nbformat": 4,
  "nbformat_minor": 0
}
