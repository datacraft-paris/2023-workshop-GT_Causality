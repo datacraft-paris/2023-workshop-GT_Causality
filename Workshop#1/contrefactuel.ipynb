{
 "cells": [
  {
   "cell_type": "markdown",
   "id": "a1f81bb3",
   "metadata": {},
   "source": [
    "$\\text{Contrefactuel} \n",
    "\\\\\n",
    "X \\sim \\mathcal{N}(0,1) \\; \\; \\;(1)\n",
    "\\\\\n",
    "T = X + \\epsilon_{1} \\; \\; \\;(2)\n",
    "\\\\\n",
    "Y = X + T + \\epsilon_{2} \\; \\; \\;(3)$\n",
    "\n",
    "$\\text{Exemple 1 : On observe }(X, T, Y) = (1, -1, 1)$\n",
    "\n",
    "$\\text{Calcul de } \\epsilon_{1} \\text{ et } \\epsilon_{2}\n",
    "\\newline\n",
    "\\;\n",
    "Y = X + T + \\epsilon_{2}\n",
    "\\newline\n",
    "\\iff \\epsilon_{2} = Y - X - T\n",
    "\\newline\n",
    "\\iff \\epsilon_{2} = 1\n",
    "\\newline$\n",
    "$\\;\n",
    "T = X + \\epsilon_{1}\n",
    "\\newline\n",
    "\\iff \\epsilon_{1} = T - X\n",
    "\\newline\n",
    "\\iff \\epsilon_{1} = -2\n",
    "\\newline\n",
    "\\newline\n",
    "\\newline\n",
    "$\n",
    "\n",
    "$\n",
    "\\text{Contrefait de l'exemple 1 en fixant T à 2 : }\n",
    "\\\\\n",
    "\\text{On se pose la question suivante : Si dans les mêmes conditions d'expérience la variable T valait 2, à quoi aurait été égale ma variable Y ?}\n",
    "\\\\\n",
    "\\text{En reprenant (2) et en remplaçant T par 2, on obtient donc :}$\n",
    "\n",
    "$\n",
    "\\; Y = X + T + \\epsilon_{2}\n",
    "\\\\\n",
    "\\iff Y = 1 + 2 + 1\n",
    "\\\\\n",
    "\\iff Y = 4\n",
    "$"
   ]
  },
  {
   "cell_type": "code",
   "execution_count": null,
   "id": "268bef98",
   "metadata": {},
   "outputs": [],
   "source": []
  }
 ],
 "metadata": {
  "kernelspec": {
   "display_name": "ML",
   "language": "python",
   "name": "ml"
  },
  "language_info": {
   "codemirror_mode": {
    "name": "ipython",
    "version": 3
   },
   "file_extension": ".py",
   "mimetype": "text/x-python",
   "name": "python",
   "nbconvert_exporter": "python",
   "pygments_lexer": "ipython3",
   "version": "3.10.7"
  }
 },
 "nbformat": 4,
 "nbformat_minor": 5
}
